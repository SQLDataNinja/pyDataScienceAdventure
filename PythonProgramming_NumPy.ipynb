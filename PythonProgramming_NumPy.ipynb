{
 "cells": [
  {
   "cell_type": "markdown",
   "metadata": {},
   "source": [
    "# Fun with NumPy\n",
    "To get comfortable with the basics of NumPy I will base my practice off the Baseball exercises from [DataCamp](http://www.datacamp.com) in this section of the notebook. Specifically I will demonstrate how greate **NumPy** is for doing vector arithmetic.\n",
    "\n",
    "\n",
    "\n",
    "## NumPy Basics"
   ]
  },
  {
   "cell_type": "code",
   "execution_count": 12,
   "metadata": {},
   "outputs": [
    {
     "name": "stdout",
     "output_type": "stream",
     "text": [
      "[74 74 72 72 73 69 69 71]\n"
     ]
    }
   ],
   "source": [
    "# Import the numpy package as np\n",
    "import numpy as np\n",
    "\n",
    "# Create list of the height of some baseball players\n",
    "baseball_height = [74, 74, 72, 72, 73, 69, 69, 71]\n",
    "\n",
    "# Create a numpy array from baseball: np_baseball_height\n",
    "np_baseball_height = np.array(baseball_height)\n",
    "\n",
    "# Print out np_baseball_height\n",
    "print(np_baseball_height)\n"
   ]
  },
  {
   "cell_type": "markdown",
   "metadata": {},
   "source": [
    "The baseball height list is currently in inches, lets convert it to meters. "
   ]
  },
  {
   "cell_type": "code",
   "execution_count": 13,
   "metadata": {},
   "outputs": [
    {
     "name": "stdout",
     "output_type": "stream",
     "text": [
      "[1.8796 1.8796 1.8288 1.8288 1.8542 1.7526 1.7526 1.8034]\n"
     ]
    }
   ],
   "source": [
    "# Convert np_baseball height values to meter: np_baseball_height_m\n",
    "np_baseball_height_m = np_baseball_height * 0.0254\n",
    "\n",
    "# Print np_baseball_m\n",
    "print(np_baseball_height_m)\n"
   ]
  },
  {
   "cell_type": "markdown",
   "metadata": {},
   "source": [
    "Let suppose the players now let us analyze their BMI. This requires us to not only have the player's height but their weight as well."
   ]
  },
  {
   "cell_type": "code",
   "execution_count": 15,
   "metadata": {},
   "outputs": [
    {
     "name": "stdout",
     "output_type": "stream",
     "text": [
      "[81.64656  97.52228  95.25432  95.25432  85.275296 79.832192 94.800728\n",
      " 90.7184  ]\n"
     ]
    }
   ],
   "source": [
    "# Create list of the weight of some baseball players\n",
    "baseball_weight = [180, 215, 210, 210, 188, 176, 209, 200]\n",
    "\n",
    "# Create a numpy array from baseball with metric units: np_baseball_weight_kg\n",
    "np_baseball_weight_kg = (np.array(baseball_weight)) * 0.453592\n",
    "\n",
    "# Print out np_baseball_weight\n",
    "print(np_baseball_weight_kg)"
   ]
  },
  {
   "cell_type": "markdown",
   "metadata": {},
   "source": [
    "Now that we collected the player's weight data and have stored it in a NumPy array of the right measurement, let's calculate each player's BMI (Body Mass Index)."
   ]
  },
  {
   "cell_type": "code",
   "execution_count": 16,
   "metadata": {},
   "outputs": [
    {
     "name": "stdout",
     "output_type": "stream",
     "text": [
      "[23.11037639 27.60406069 28.48080465 28.48080465 24.80333518 25.99036864\n",
      " 30.86356276 27.89402921]\n"
     ]
    }
   ],
   "source": [
    "# Calculate BMI: np_baseball_bmi\n",
    "np_baseball_bmi = np_baseball_weight_kg / np_baseball_height_m ** 2\n",
    "\n",
    "# Print out bmi\n",
    "print(np_baseball_bmi)"
   ]
  },
  {
   "cell_type": "markdown",
   "metadata": {},
   "source": [
    "Now I can gain some insight on the baseball players. For instance, perhaps I want to identify players that would be considered 'lightweight'."
   ]
  },
  {
   "cell_type": "code",
   "execution_count": 18,
   "metadata": {},
   "outputs": [
    {
     "name": "stdout",
     "output_type": "stream",
     "text": [
      "[23.11037639]\n"
     ]
    }
   ],
   "source": [
    "# Create a boolean list identifying all the players with a BMI less than 24: baseball_light_bmi\n",
    "baseball_light_bmi = np_baseball_bmi < 24\n",
    "\n",
    "# Print out BMIs of all baseball players whose BMI is below 24.\n",
    "print(np_baseball_bmi[baseball_light_bmi])"
   ]
  },
  {
   "cell_type": "markdown",
   "metadata": {},
   "source": [
    "## 2D NumPy Arrays\n",
    "The team's manager is interested in the results produced so far and the player insight that has been delievered, so he sends four more players to us to include in our studies. Let's use this opportunity to become more familiar with **NumPy** 2D Arrays."
   ]
  },
  {
   "cell_type": "code",
   "execution_count": 61,
   "metadata": {},
   "outputs": [
    {
     "name": "stdout",
     "output_type": "stream",
     "text": [
      "(4, 2)\n"
     ]
    }
   ],
   "source": [
    "# Create a list of lists of the new player's weights(lbs) & heights(inc): baseball_new_players\n",
    "baseball_new_players = [[187, 70.4],\n",
    "                        [222, 72.7],\n",
    "                        [207, 68.5],\n",
    "                        [169, 75.2]]\n",
    "\n",
    "# Create a 2D numpy array from baseball_new_players: np_baseball_new_players\n",
    "np_baseball_new_players = np.array(baseball_new_players)\n",
    "\n",
    "# Print out the number of columns and rows of our 2D numpy array using the shape attribute of numpy arrays.\n",
    "print(np_baseball_new_players.shape)"
   ]
  },
  {
   "cell_type": "code",
   "execution_count": 62,
   "metadata": {},
   "outputs": [
    {
     "name": "stdout",
     "output_type": "stream",
     "text": [
      "[[187.   70.4]\n",
      " [222.   72.7]\n",
      " [207.   68.5]\n",
      " [169.   75.2]]\n"
     ]
    }
   ],
   "source": [
    "\n",
    "print(np_baseball_new_players)"
   ]
  },
  {
   "cell_type": "markdown",
   "metadata": {},
   "source": [
    "Now that we have a 2D **NumPy** array for our new players ready to use, before we go any further we will want to convert the weight and height measurements to their metric values (kg and meters). **NumPy** is very useful with this since it can easily perform element-wise calculations."
   ]
  },
  {
   "cell_type": "code",
   "execution_count": 72,
   "metadata": {},
   "outputs": [
    {
     "name": "stdout",
     "output_type": "stream",
     "text": [
      "[[ 84.821704   1.78816 ]\n",
      " [100.697424   1.84658 ]\n",
      " [ 93.893544   1.7399  ]\n",
      " [ 76.657048   1.91008 ]]\n"
     ]
    }
   ],
   "source": [
    "# Create an numpy array to store the metric conversion multipliers: metric_conversions (weight, height)\n",
    "metric_conversions = np.array((0.453592, 0.0254))\n",
    "\n",
    "# Create a numpy 2D array to store the product of the new player's weight & height by the metric conversions: np_baseball_new_players_m\n",
    "np_baseball_new_players_m = np_baseball_new_players * metric_conversions\n",
    "\n",
    "print(np_baseball_new_players_m)"
   ]
  },
  {
   "cell_type": "markdown",
   "metadata": {},
   "source": [
    "To be able to analyze all our players for our study, both the original players and the new players we must convert the np_baseball_weight_kg and np_baseball_height_m **NumPy** arrays to one 2D array and append, then create a new 2D array with all the data."
   ]
  },
  {
   "cell_type": "code",
   "execution_count": 73,
   "metadata": {},
   "outputs": [
    {
     "name": "stdout",
     "output_type": "stream",
     "text": [
      "(12, 2)\n"
     ]
    }
   ],
   "source": [
    "# Convert the original players list to a numpy 2D array: np_baseball_2d\n",
    "np_baseball_2d = np.column_stack((np_baseball_height_m, np_baseball_weight_kg))\n",
    "\n",
    "# Combine original and new players data into one 2D Array: np_baseball_all\n",
    "np_baseball_all = np.concatenate((np_baseball_2d,np_baseball_new_players_m),0)\n",
    "\n",
    "# Let's check the shape now to make sure there are 2 rows and 2 columns.\n",
    "print(np_baseball_all.shape)"
   ]
  }
 ],
 "metadata": {
  "kernelspec": {
   "display_name": "Python 3",
   "language": "python",
   "name": "python3"
  },
  "language_info": {
   "codemirror_mode": {
    "name": "ipython",
    "version": 3
   },
   "file_extension": ".py",
   "mimetype": "text/x-python",
   "name": "python",
   "nbconvert_exporter": "python",
   "pygments_lexer": "ipython3",
   "version": "3.7.0"
  }
 },
 "nbformat": 4,
 "nbformat_minor": 2
}
