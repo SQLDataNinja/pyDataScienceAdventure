{
 "cells": [
  {
   "cell_type": "markdown",
   "metadata": {},
   "source": [
    "# Objective"
   ]
  },
  {
   "cell_type": "markdown",
   "metadata": {},
   "source": [
    "# Importing Data"
   ]
  },
  {
   "cell_type": "code",
   "execution_count": 1,
   "metadata": {},
   "outputs": [
    {
     "ename": "ModuleNotFoundError",
     "evalue": "No module named 'azure'",
     "output_type": "error",
     "traceback": [
      "\u001b[0;31m---------------------------------------------------------------------------\u001b[0m",
      "\u001b[0;31mModuleNotFoundError\u001b[0m                       Traceback (most recent call last)",
      "\u001b[0;32m<ipython-input-1-02dfb951777d>\u001b[0m in \u001b[0;36m<module>\u001b[0;34m\u001b[0m\n\u001b[1;32m      2\u001b[0m \u001b[0;32mimport\u001b[0m \u001b[0mnumpy\u001b[0m \u001b[0;32mas\u001b[0m \u001b[0mnp\u001b[0m\u001b[0;34m\u001b[0m\u001b[0;34m\u001b[0m\u001b[0m\n\u001b[1;32m      3\u001b[0m \u001b[0;32mimport\u001b[0m \u001b[0mio\u001b[0m\u001b[0;34m\u001b[0m\u001b[0;34m\u001b[0m\u001b[0m\n\u001b[0;32m----> 4\u001b[0;31m \u001b[0;32mfrom\u001b[0m \u001b[0mazure\u001b[0m\u001b[0;34m.\u001b[0m\u001b[0mstorage\u001b[0m\u001b[0;34m.\u001b[0m\u001b[0mblob\u001b[0m \u001b[0;32mimport\u001b[0m \u001b[0mBlockBlobService\u001b[0m\u001b[0;34m\u001b[0m\u001b[0;34m\u001b[0m\u001b[0m\n\u001b[0m\u001b[1;32m      5\u001b[0m \u001b[0;34m\u001b[0m\u001b[0m\n\u001b[1;32m      6\u001b[0m \u001b[0mazure_blob_name\u001b[0m \u001b[0;34m=\u001b[0m \u001b[0;34m'jejohndatascibaseball'\u001b[0m\u001b[0;34m\u001b[0m\u001b[0;34m\u001b[0m\u001b[0m\n",
      "\u001b[0;31mModuleNotFoundError\u001b[0m: No module named 'azure'"
     ]
    }
   ],
   "source": [
    "import pandas as pd\n",
    "import numpy as np\n",
    "import io\n",
    "from azure.storage.blob import BlockBlobService\n",
    "\n",
    "azure_blob_name = 'jejohndatascibaseball'\n",
    "azure_blob_key = 'rASKkhHbt5pt9XtzM7kGnr15h6mAqjJDnMCg+T/f1IMjjg1cHqSTYT2HSkI+v10TbWNMjC3DbeuMpFyQmcrPAw=='\n",
    "azure_blob_container = 'extracts'\n",
    "file_name_roster = 'Pittsburgh_Pirates_Roster_2015_2018.csv'\n",
    "file_name_savant = 'savant_data-Pirates_20182015.csv'\n",
    "file_name_salary = 'Pittsburgh_Pirates_Salaries_2015_2018.csv'\n",
    "\n",
    "block_blob_service = BlockBlobService(account_name=azure_blob_name , account_key= azure_blob_key)\n",
    "block_blob_service.get_blob_to_path('extracts', file_name_roster, file_name_roster)\n",
    "df_roster = pd.read_csv(file_name_roster)\n",
    "print(df_roster.head())"
   ]
  },
  {
   "cell_type": "code",
   "execution_count": null,
   "metadata": {},
   "outputs": [],
   "source": [
    "df_roster['Position'] = df_roster['Position'].astype('category')\n",
    "\n",
    "print(df_roster.info())"
   ]
  },
  {
   "cell_type": "code",
   "execution_count": 2,
   "metadata": {},
   "outputs": [
    {
     "name": "stdout",
     "output_type": "stream",
     "text": [
      "   Year             Player  Age POS Status          Base Signing Bonus  \\\n",
      "0  2015  Francisco Liriano   31  RP    Vet  $11,000,000      $666,666    \n",
      "1  2015   Andrew McCutchen   28  RF  Arb 3  $10,000,000      $208,333    \n",
      "2  2015       A.J. Burnett   38  SP    Vet   $8,500,000              -   \n",
      "3  2015        Neil Walker   29  2B  Arb 2   $8,000,000              -   \n",
      "4  2015      Pedro Alvarez   28  1B  Arb 2   $5,750,000              -   \n",
      "\n",
      "  Incentives  Total Salary   Adj Salary   Payroll % On Disabled List  \n",
      "0          -  $11,666,666   $11,666,666       11.73               No  \n",
      "1   $50,000   $10,258,333   $10,258,333       10.32               No  \n",
      "2          -   $8,500,000    $8,500,000        8.55               No  \n",
      "3          -   $8,000,000    $8,000,000        8.05               No  \n",
      "4          -   $5,750,000    $5,750,000        5.78               No  \n"
     ]
    }
   ],
   "source": [
    "# Load Salary Data from Azure Blob Storage\n",
    "block_blob_service.get_blob_to_path('extracts', file_name_salary, file_name_salary)\n",
    "df_salary = pd.read_csv(file_name_salary)\n",
    "print(df_salary.head())"
   ]
  },
  {
   "cell_type": "code",
   "execution_count": 3,
   "metadata": {},
   "outputs": [
    {
     "name": "stdout",
     "output_type": "stream",
     "text": [
      "  pitch_type   game_date  release_speed  release_pos_x  release_pos_z  \\\n",
      "0         SL  2018-09-30           88.6         2.6838         5.2577   \n",
      "1         FF  2018-09-30           99.9         2.0707         5.4214   \n",
      "2         FF  2018-09-30          100.1         1.9938         5.4327   \n",
      "3         SL  2018-09-30           89.2         2.8610         5.2533   \n",
      "4         FF  2018-09-30          100.7         2.1613         5.2707   \n",
      "\n",
      "      player_name  batter  pitcher     events      description  \\\n",
      "0  Felipe Vazquez  594988   553878  strikeout  swinging_strike   \n",
      "1  Felipe Vazquez  594988   553878        NaN    called_strike   \n",
      "2  Felipe Vazquez  594988   553878        NaN             foul   \n",
      "3  Felipe Vazquez  594988   553878        NaN             ball   \n",
      "4  Felipe Vazquez  664167   553878  strikeout    called_strike   \n",
      "\n",
      "           ...           home_score  away_score  bat_score  fld_score  \\\n",
      "0          ...                    5           6          5          6   \n",
      "1          ...                    5           6          5          6   \n",
      "2          ...                    5           6          5          6   \n",
      "3          ...                    5           6          5          6   \n",
      "4          ...                    5           6          5          6   \n",
      "\n",
      "   post_away_score post_home_score post_bat_score post_fld_score  \\\n",
      "0                6               5              5              6   \n",
      "1                6               5              5              6   \n",
      "2                6               5              5              6   \n",
      "3                6               5              5              6   \n",
      "4                6               5              5              6   \n",
      "\n",
      "  if_fielding_alignment of_fielding_alignment  \n",
      "0              Standard              Standard  \n",
      "1              Standard              Standard  \n",
      "2              Standard              Standard  \n",
      "3              Standard              Standard  \n",
      "4              Standard             Strategic  \n",
      "\n",
      "[5 rows x 89 columns]\n"
     ]
    }
   ],
   "source": [
    "# Load Savant Data from Azure Blob Storage\n",
    "block_blob_service.get_blob_to_path('extracts', file_name_savant, file_name_savant)\n",
    "df_savant = pd.read_csv(file_name_savant)\n",
    "print(df_savant.head())"
   ]
  },
  {
   "cell_type": "markdown",
   "metadata": {},
   "source": [
    "# Data Exploration and Data Cleaning"
   ]
  },
  {
   "cell_type": "code",
   "execution_count": null,
   "metadata": {},
   "outputs": [],
   "source": [
    "# Preview out data\n",
    "df_roster.head()\n",
    "\n",
    "# Look at some basic information about our data, like column data type and missing values\n",
    "df_roster.info()\n",
    "\n",
    "# Look at the column names\n",
    "df_roster.columns\n",
    "\n",
    "# View descriptive statistics to screen for outliers and potentially bad data\n",
    "df_roster.describe()\n",
    "df_roster.column.value_counts()\n",
    "\n",
    "# Look at the distribution of our data\n",
    "df_roster.column.plot('hist')"
   ]
  },
  {
   "cell_type": "code",
   "execution_count": 10,
   "metadata": {},
   "outputs": [],
   "source": [
    "# Help Function: Check for Data Quality Issues\n",
    "def func_datacleaning(row_data):\n",
    "    # data cleaning steps\n",
    "    return True"
   ]
  },
  {
   "cell_type": "markdown",
   "metadata": {},
   "source": [
    "# Baseline Modeling"
   ]
  },
  {
   "cell_type": "markdown",
   "metadata": {},
   "source": [
    "# Secondary Modeling\n"
   ]
  },
  {
   "cell_type": "markdown",
   "metadata": {},
   "source": [
    "# Communicating Results"
   ]
  },
  {
   "cell_type": "markdown",
   "metadata": {},
   "source": [
    "# Conclusion"
   ]
  },
  {
   "cell_type": "markdown",
   "metadata": {},
   "source": [
    "# Resources"
   ]
  }
 ],
 "metadata": {
  "kernelspec": {
   "display_name": "Python 3",
   "language": "python",
   "name": "python3"
  },
  "language_info": {
   "codemirror_mode": {
    "name": "ipython",
    "version": 3
   },
   "file_extension": ".py",
   "mimetype": "text/x-python",
   "name": "python",
   "nbconvert_exporter": "python",
   "pygments_lexer": "ipython3",
   "version": "3.7.1"
  }
 },
 "nbformat": 4,
 "nbformat_minor": 2
}
