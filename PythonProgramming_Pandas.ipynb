{
 "cells": [
  {
   "cell_type": "markdown",
   "metadata": {},
   "source": [
    "# Fun with Pandas\n",
    "To get comfortable with the the **Pandas** package, I will base my practice off exercises from [DataCamp](http://www.datacamp.com) in this section of the notebook. Specifically I will demonstrate how great **Pandas** is for Exploratory Data Analysis, Data Wrangling, Data Preprocessing, Data Modeling and Data Visualization.\n",
    "\n",
    "\n",
    "\n",
    "## Pandas Basics"
   ]
  },
  {
   "cell_type": "code",
   "execution_count": 50,
   "metadata": {},
   "outputs": [],
   "source": [
    "import pandas as pd # Import Pandas as pd\n",
    "import os "
   ]
  },
  {
   "cell_type": "markdown",
   "metadata": {},
   "source": [
    "## Imported Data with Pandas\n",
    "We might even want to conduct a broader analysis of other baseball teams. The Pittsburgh Pirates team was kind enough to send us over a file of their 2018 team roster to take a look at and use in our study.\n",
    "\n",
    "\n",
    "First thing we need to do is get that data into our environment quickly. Importing flat files using the **Pandas** package is considered the standard and best practice approach in **Python**."
   ]
  },
  {
   "cell_type": "code",
   "execution_count": 134,
   "metadata": {},
   "outputs": [
    {
     "name": "stdout",
     "output_type": "stream",
     "text": [
      "  Position   #             Name  Height  Weight Throws   Bats Date Of Birth\n",
      "0  Pitcher  52  Tanner Anderson    6.17     195  Right  Right     5/27/1993\n",
      "1  Pitcher  24     Chris Archer    6.17     195  Right  Right     9/26/1988\n",
      "2  Pitcher  43    Steven Brault    6.00     195   Left   Left     4/29/1992\n",
      "3  Pitcher  57       Nick Burdi    6.42     220  Right  Right     1/19/1993\n",
      "4  Pitcher  30       Kyle Crick    6.33     220  Right   Left    11/30/1992\n"
     ]
    }
   ],
   "source": [
    "# Store current working directory: curr_wd\n",
    "curr_wd = os.getcwd()\n",
    "\n",
    "# Store file name: file_pirates_roster\n",
    "file_pirates_roster = '2018_PghPirates_Roster.csv'\n",
    "\n",
    "# Load file as a Pandas Dataframe: df_pirates_roster\n",
    "df_pirates_roster = pd.read_csv(curr_wd + '/data_sources/' + file_pirates_roster)\n",
    "\n",
    "# Preview the data in df_pirates_roster\n",
    "print(df_pirates_roster.head())"
   ]
  },
  {
   "cell_type": "markdown",
   "metadata": {},
   "source": [
    "## Data Cleansing & Manipulation with Pandas"
   ]
  },
  {
   "cell_type": "code",
   "execution_count": 137,
   "metadata": {},
   "outputs": [
    {
     "name": "stdout",
     "output_type": "stream",
     "text": [
      "The dataframe has 48 rows and 8 columns\n",
      "<class 'pandas.core.frame.DataFrame'>\n",
      "RangeIndex: 48 entries, 0 to 47\n",
      "Data columns (total 8 columns):\n",
      "Position         48 non-null object\n",
      "#                48 non-null int64\n",
      "Name             48 non-null object\n",
      "Height           48 non-null float64\n",
      "Weight           48 non-null int64\n",
      "Throws           48 non-null object\n",
      "Bats             48 non-null object\n",
      "Date Of Birth    48 non-null object\n",
      "dtypes: float64(1), int64(2), object(5)\n",
      "memory usage: 3.1+ KB\n",
      "None\n"
     ]
    }
   ],
   "source": [
    "#\n",
    "print('The dataframe has {0} rows and {1} columns'.format(df_pirates_roster.shape[0], df_pirates_roster.shape[1]))\n",
    "\n",
    "#\n",
    "print(df_pirates_roster.info())"
   ]
  },
  {
   "cell_type": "markdown",
   "metadata": {},
   "source": [
    "After looking at our dataframe values, we see that one of the features/columns was loaded with the wrong data type, Date of Birth is set to an object, but should be a Date. The easiest way to remedy this is to reload the data but use the parse_dates parameter to the **Pandas** read_csv function:"
   ]
  },
  {
   "cell_type": "code",
   "execution_count": 139,
   "metadata": {},
   "outputs": [
    {
     "name": "stdout",
     "output_type": "stream",
     "text": [
      "The dataframe has 48 rows and 8 columns\n",
      "<class 'pandas.core.frame.DataFrame'>\n",
      "RangeIndex: 48 entries, 0 to 47\n",
      "Data columns (total 8 columns):\n",
      "Position         48 non-null object\n",
      "#                48 non-null int64\n",
      "Name             48 non-null object\n",
      "Height           48 non-null float64\n",
      "Weight           48 non-null int64\n",
      "Throws           48 non-null object\n",
      "Bats             48 non-null object\n",
      "Date Of Birth    48 non-null datetime64[ns]\n",
      "dtypes: datetime64[ns](1), float64(1), int64(2), object(4)\n",
      "memory usage: 3.1+ KB\n",
      "None\n"
     ]
    }
   ],
   "source": [
    "# Load file as a Pandas Dataframe: df_pirates_roster\n",
    "df_pirates_roster = pd.read_csv(curr_wd + '/data_sources/' + file_pirates_roster, parse_dates=['Date Of Birth'])\n",
    "\n",
    "# Preview the reloaded data in df_pirates_roster\n",
    "print('The dataframe has {0} rows and {1} columns'.format(df_pirates_roster.shape[0], df_pirates_roster.shape[1]))\n",
    "\n",
    "#\n",
    "print(df_pirates_roster.info())"
   ]
  },
  {
   "cell_type": "code",
   "execution_count": 141,
   "metadata": {},
   "outputs": [
    {
     "name": "stdout",
     "output_type": "stream",
     "text": [
      "Index(['Position', 'Num', 'Full_Name', 'Height_ft', 'Weight_lbs',\n",
      "       'Throws_Hand', 'Bats_Hand', 'DoB'],\n",
      "      dtype='object')\n"
     ]
    }
   ],
   "source": [
    "# Rename the dataframe columns to be more descriptive\n",
    "df_pirates_roster.columns = ['Position', 'Num', 'Full_Name', 'Height_ft', 'Weight_lbs', 'Throws_Hand', 'Bats_Hand', 'DoB']\n",
    "\n",
    "# Check the columns are now more readable\n",
    "print(df_pirates_roster.columns)"
   ]
  },
  {
   "cell_type": "code",
   "execution_count": 142,
   "metadata": {},
   "outputs": [],
   "source": [
    "# Create helper function to determine BMI Classification per NIH\n",
    "def get_bmi_class(bmi_value):\n",
    "    \"\"\"Returns the BMI classification based on the given bmi_value \n",
    "    parameter passed into the function.\"\"\"\n",
    "    \n",
    "    # Initialize return variable\n",
    "    bmi_class = 'Unknown'\n",
    "    \n",
    "    if bmi_value < 18.5:\n",
    "        bmi_class = 'Underweight'\n",
    "    elif bmi_value >= 18.5 and bmi_value <= 24.9:\n",
    "        bmi_class = 'Normal'\n",
    "    elif bmi_value >= 25.0 and bmi_value <= 29.9:\n",
    "        bmi_class = 'Overweight'\n",
    "    elif bmi_value >= 30.0 and bmi_value <= 39.9:\n",
    "        bmi_class = 'Obesity'\n",
    "    else:\n",
    "        bmi_class = 'Extreme Obesity'\n",
    "    \n",
    "    return(bmi_class)\n",
    "\n",
    "from datetime import date\n",
    "\n",
    "def calculate_age(born):\n",
    "    today = date.today()\n",
    "    return today.year - born.year - ((today.month, today.day) < (born.month, born.day))"
   ]
  },
  {
   "cell_type": "code",
   "execution_count": 143,
   "metadata": {},
   "outputs": [
    {
     "name": "stdout",
     "output_type": "stream",
     "text": [
      "  Position  Num        Full_Name  Height_ft  Weight_lbs Throws_Hand Bats_Hand  \\\n",
      "0  Pitcher   52  Tanner Anderson       6.17         195       Right     Right   \n",
      "1  Pitcher   24     Chris Archer       6.17         195       Right     Right   \n",
      "2  Pitcher   43    Steven Brault       6.00         195        Left      Left   \n",
      "3  Pitcher   57       Nick Burdi       6.42         220       Right     Right   \n",
      "4  Pitcher   30       Kyle Crick       6.33         220       Right      Left   \n",
      "\n",
      "         DoB  Height_m  Weight_kg        BMI   BMI_class  Age  \n",
      "0 1993-05-27  1.880616   88.45044  25.009197  Overweight   25  \n",
      "1 1988-09-26  1.880616   88.45044  25.009197  Overweight   30  \n",
      "2 1992-04-29  1.828800   88.45044  26.446461  Overweight   26  \n",
      "3 1993-01-19  1.956816   99.79024  26.060821  Overweight   25  \n",
      "4 1992-11-30  1.929384   99.79024  26.807155  Overweight   26  \n"
     ]
    }
   ],
   "source": [
    "# Add new feature/column to convert Height from US feet to metric meter: df_pirates_roster['Height_m'] \n",
    "df_pirates_roster['Height_m'] = (df_pirates_roster['Height_ft'] * 12)* 0.0254\n",
    "\n",
    "# Add new feature/column to convert Weight from US lbs to metric kg: df_pirates_roster['Weight_kg']\n",
    "df_pirates_roster['Weight_kg'] = df_pirates_roster['Weight_lbs'] * 0.453592\n",
    "\n",
    "# Add new feature/column to calculate the player's BMI using our metric values: df_pirates_roster['BMI']\n",
    "df_pirates_roster['BMI'] = df_pirates_roster['Weight_kg'] / df_pirates_roster['Height_m'] ** 2\n",
    "\n",
    "# Add new feature/column to label player's BMI classification per NIH: df_pirates_roster['BMI_class']\n",
    "df_pirates_roster['BMI_class'] = df_pirates_roster.apply(lambda row: get_bmi_class(row['BMI']), axis=1)\n",
    "\n",
    "# Add new feature/column to label player's age: df_pirates_roster['Age]\n",
    "df_pirates_roster['Age'] = df_pirates_roster.apply(lambda row: calculate_age(row['DoB']), axis=1)\n",
    "\n",
    "print(df_pirates_roster.head())"
   ]
  },
  {
   "cell_type": "markdown",
   "metadata": {},
   "source": [
    "## Exploratory Data Analysis with Pandas\n",
    "\n",
    "\n",
    "### Visual EDA\n",
    "To help us gain some insight into our data, we want to create a visual to show the distribution of bmi values amongst the players. A great way to accomplish this is by using a histogram to show the distributions. The **Matplotlib** package has some great visual graphs that can be easily implemented in **Python**, as well as the **Seaborn** visualization package for additional visual styling and plotting abilities."
   ]
  },
  {
   "cell_type": "code",
   "execution_count": 144,
   "metadata": {},
   "outputs": [
    {
     "data": {
      "image/png": "[encoded data removed]",
      "text/plain": [
       "<Figure size 432x288 with 1 Axes>"
      ]
     },
     "metadata": {},
     "output_type": "display_data"
    }
   ],
   "source": [
    "# Import plotting modules\n",
    "import matplotlib.pyplot as plt\n",
    "import seaborn as sns\n",
    "\n",
    "import numpy as np\n",
    "\n",
    "# Set default Seaborn Stle\n",
    "sns.set()\n",
    "\n",
    "# Determine the number of bins to use for our histogram. \n",
    "# Note: The \"square root rule\" is a commonly-used rule of thumb for choosing number of bins: \n",
    "# choose the number of bins to be the square root of the number of samples.\n",
    "n_data = len(df_pirates_roster)\n",
    "n_bins = int(np.sqrt(n_data))\n",
    "\n",
    "# Plot a histogram of the BMI column from our dataframe and label the axes: hist_bmi\n",
    "hist_bmi = plt.hist(df_pirates_roster['BMI'], bins=n_bins)\n",
    "hist_bmi = plt.xlabel('Body Mass Index (BMI)')\n",
    "hist_bmi = plt.ylabel('Num of Players')\n",
    "hist_bmi = plt.title('Pirates BMI Distribution')\n",
    "\n",
    "# Show histogram\n",
    "plt.show()"
   ]
  },
  {
   "cell_type": "markdown",
   "metadata": {},
   "source": [
    "By looking at the histogram we can see the majority of the Pittsburgh Pirates players are in the 26 to 30 BMI range. This is very interesting, however we must keep in mind the one drawback of using histograms is that the same dataset can look different different depending on the number of bins used. This can introduce 'Binning bias' - the same data maybe interpreted differently depending on choise of bins.\n",
    "\n",
    "One way to combat possible binning bias is to try a Swarm Plot:"
   ]
  },
  {
   "cell_type": "code",
   "execution_count": 145,
   "metadata": {},
   "outputs": [
    {
     "data": {
      "image/png": "[encoded data removed]",
      "text/plain": [
       "<Figure size 432x288 with 1 Axes>"
      ]
     },
     "metadata": {},
     "output_type": "display_data"
    }
   ],
   "source": [
    "swarm_bmi_class = sns.swarmplot(x='Position', y='BMI', data=df_pirates_roster)\n",
    "swarm_bmi_class = plt.xlabel('Player''s Position')\n",
    "swarm_bmi_class = plt.ylabel('Body Mass Index (BMI)')\n",
    "plt.show()"
   ]
  },
  {
   "cell_type": "markdown",
   "metadata": {},
   "source": [
    "The swarmplot is much more detailed than our histogram. We can easily see that the majority of the players tend to have a BMI in the 25 to 30 range. As you can see, with the additional detail given by this plot we can come to more percise insight as well as additional insight by adding the Player's Position feature.\n",
    "\n",
    "\n",
    "Another visual EDA that is often leveraged is the **Empirical Cumulative Distribution Function (ECDF)**.\n",
    "ECDF are useful to show all the data and gives a complete picture of how the data is distributed. In an ECDF the x value is the quantity you are measuring, in this case the BMI value, while the y value is the fraction of datapoints that have a value smaller than the associated x value. \n",
    "\n",
    "\n",
    "Since this is a commonly used EDA method, let's start by creating a reusable function:"
   ]
  },
  {
   "cell_type": "code",
   "execution_count": 146,
   "metadata": {},
   "outputs": [],
   "source": [
    "# Creating function to compute ECDF\n",
    "def ecdf(data):\n",
    "    \"\"\"Compute ECDF for a one-dimensional array of measurements, returning two arrays (x, y)\"\"\"\n",
    "    \n",
    "    # Calculate the number of data points: n\n",
    "    n = len(data)\n",
    "    \n",
    "    # Store sorted x-data values for the ECDF: x\n",
    "    x = np.sort(data)\n",
    "    \n",
    "    # Store y-data (evenly spaced datapoints with a max of 1) for the ECDF: y\n",
    "    y = np.arange(1, n + 1) / n\n",
    "    \n",
    "    return x, y"
   ]
  },
  {
   "cell_type": "markdown",
   "metadata": {},
   "source": [
    "Let's explore the player's data a little more by computing a Empirical Cumulative Distribution Function (ECDF) leveraging the function we created above."
   ]
  },
  {
   "cell_type": "code",
   "execution_count": 147,
   "metadata": {},
   "outputs": [
    {
     "data": {
      "image/png": "[encoded data removed]",
      "text/plain": [
       "<Figure size 432x288 with 1 Axes>"
      ]
     },
     "metadata": {},
     "output_type": "display_data"
    }
   ],
   "source": [
    "# Compute ECDF for BMI data: ecdf_x, ecdf_y\n",
    "ecdf_x, ecdf_y = ecdf(df_pirates_roster['BMI'])\n",
    "\n",
    "# Plot the ecdf using datapoints ('.'), not line (linestyle is none): ecdf_bmi\n",
    "ecdf_bmi = plt.plot(ecdf_x, ecdf_y, marker=\".\", linestyle='none')\n",
    "\n",
    "# Label our axies accordingly\n",
    "ecdf_bmi = plt.xlabel('BMI')\n",
    "ecdf_bmi = plt.ylabel('ECDF')\n",
    "\n",
    "# Set the margins to keep data off plot edges - 2% buffer around the plot\n",
    "plt.margins(0.02) \n",
    "\n",
    "# Show ECDF plot\n",
    "plt.show()"
   ]
  },
  {
   "cell_type": "markdown",
   "metadata": {},
   "source": [
    "Here we are able to see that the majority of the players ( 80 % ) are less than or equal to a BMI of 30, so the players tend to be 'Overweight' or 'Normal'. \n",
    "\n",
    "What might be interesting is comparing the ECDF BMI values between each player position."
   ]
  },
  {
   "cell_type": "code",
   "execution_count": 148,
   "metadata": {},
   "outputs": [
    {
     "data": {
      "image/png": "[encoded data removed]",
      "text/plain": [
       "<Figure size 432x288 with 1 Axes>"
      ]
     },
     "metadata": {},
     "output_type": "display_data"
    }
   ],
   "source": [
    "# Compute ECDFs for all player positions\n",
    "x_pitchers, y_pitchers = ecdf(df_pirates_roster.loc[df_pirates_roster['Position'] == 'Pitcher']['BMI'])\n",
    "x_catchers, y_catchers = ecdf(df_pirates_roster.loc[df_pirates_roster['Position'] == 'Catcher']['BMI'])\n",
    "x_infielders, y_infielders = ecdf(df_pirates_roster.loc[df_pirates_roster['Position'] == 'Infielder']['BMI'])\n",
    "x_outfielders, y_outfielders = ecdf(df_pirates_roster.loc[df_pirates_roster['Position'] == 'Outfielder']['BMI'])\n",
    "\n",
    "# Plot all ECDFs on the same plot\n",
    "ecdf_bmi_class_comp = plt.plot(x_pitchers, y_pitchers, marker='.', linestyle='none')\n",
    "ecdf_bmi_class_comp = plt.plot(x_catchers, y_catchers, marker='.', linestyle='none')\n",
    "ecdf_bmi_class_comp = plt.plot(x_infielders, y_infielders, marker='.', linestyle='none')\n",
    "ecdf_bmi_class_comp = plt.plot(x_outfielders, y_outfielders, marker='.', linestyle='none')\n",
    "\n",
    "# Annotate the plot\n",
    "ecdf_bmi_class_comp = plt.legend(('Pitchers', 'Catchers', 'Infielders', 'Outfielders'), loc='lower right')\n",
    "ecdf_bmi_class_comp = plt.xlabel('BMI')\n",
    "ecdf_bmi_class_comp = plt.ylabel('ECDF')\n",
    "\n",
    "# Display the plot\n",
    "plt.show()"
   ]
  },
  {
   "cell_type": "markdown",
   "metadata": {},
   "source": [
    "The ECDFs clearly show the differences amoung the different player positions. Looks like Outfield players tend to have their BMIs in the normal range, while the 'Obese' or higher tend to be Pitchers. Pitchers also seem to have more variability than the other positions."
   ]
  },
  {
   "cell_type": "markdown",
   "metadata": {},
   "source": [
    "### Quantitative EDA\n",
    "Now that we explored our data graphically to begin to understand out dataset, we should conduct Quantitative exploratory data analysis to compute useful summary statistics to allow us to concisely describe salient features of our data dataset.\n",
    "\n",
    "\n",
    "Let's start by calculating some measures of central tendancy for the player's BMI"
   ]
  },
  {
   "cell_type": "code",
   "execution_count": 149,
   "metadata": {},
   "outputs": [
    {
     "name": "stdout",
     "output_type": "stream",
     "text": [
      "The average BMI for a Pittsburgh Pirates player is 27.41613898217958, while the median is 27.24540329478862\n"
     ]
    }
   ],
   "source": [
    "# Average BMI\n",
    "bmi_mean = np.mean(df_pirates_roster['BMI'])\n",
    "bmi_median = np.median(df_pirates_roster['BMI'])\n",
    "\n",
    "print('The average BMI for a Pittsburgh Pirate''s player is {0}, while the median is {1}'\n",
    "      .format(bmi_mean, bmi_median))"
   ]
  },
  {
   "cell_type": "markdown",
   "metadata": {},
   "source": [
    "The median is important here because unlike the mean, it is not impacted by outliers. The median is also the 50th percentile, meaning 50% of the data are less than the median. Percentiles useful summary statistics and help provide additional insight from our ECDF plots."
   ]
  },
  {
   "cell_type": "code",
   "execution_count": 150,
   "metadata": {},
   "outputs": [
    {
     "name": "stdout",
     "output_type": "stream",
     "text": [
      "[26.23192397 27.24540329 28.28182923]\n"
     ]
    }
   ],
   "source": [
    "# Specify array of percentiles: percentiles\n",
    "percentiles = np.array([25, 50, 75])\n",
    "\n",
    "# Compute an array of BMI percentiles: bmi_percentiles\n",
    "bmi_percentiles = np.percentile(df_pirates_roster['BMI'], percentiles)\n",
    "\n",
    "print(bmi_percentiles)"
   ]
  },
  {
   "cell_type": "markdown",
   "metadata": {},
   "source": [
    "Now that we have computed our dataset percentiles, lets mix quantitative and visual EDA to help things stay concise with our various summary statistics. Lets compute the percentiles of our dataset and overlay the results to our ecdf_bmi ECDF plot from above:"
   ]
  },
  {
   "cell_type": "code",
   "execution_count": 151,
   "metadata": {},
   "outputs": [
    {
     "data": {
      "image/png": "[encoded data removed]",
      "text/plain": [
       "<Figure size 432x288 with 1 Axes>"
      ]
     },
     "metadata": {},
     "output_type": "display_data"
    }
   ],
   "source": [
    "# Plot the ECDF\n",
    "ecdf_bmi = plt.plot(ecdf_x, ecdf_y, '.')\n",
    "ecdf_bmi = plt.xlabel('Body Mass Index (BMI)')\n",
    "ecdf_bmi = plt.ylabel('ECDF')\n",
    "\n",
    "# Overlay percentiles as red diamonds.\n",
    "ecdf_bmi = plt.plot(bmi_percentiles, percentiles/100, marker='D', color='red', linestyle='none')\n",
    "\n",
    "# Show the plot\n",
    "plt.show()"
   ]
  },
  {
   "cell_type": "markdown",
   "metadata": {},
   "source": [
    "Even though our data set is not too large and the swarm plot and EDCF plot gave us some good insight, using a box plot will help us visualize the percentile summary to derive insight quickly."
   ]
  },
  {
   "cell_type": "code",
   "execution_count": 152,
   "metadata": {},
   "outputs": [
    {
     "data": {
      "image/png": "[encoded data removed]",
      "text/plain": [
       "<Figure size 432x288 with 1 Axes>"
      ]
     },
     "metadata": {},
     "output_type": "display_data"
    }
   ],
   "source": [
    "# Create box plot with Seaborn's default settings\n",
    "boxplot_bmi = sns.boxplot(x='Position', y='BMI', data=df_pirates_roster)\n",
    "\n",
    "# Label the axes\n",
    "boxplot_bmi = plt.xlabel('Player''s Position')\n",
    "boxplot_bmi = plt.ylabel('Body Mass Index')\n",
    "\n",
    "# Show the plot\n",
    "plt.show()"
   ]
  },
  {
   "cell_type": "markdown",
   "metadata": {},
   "source": [
    "While computing the mean and median are useful to tell us the magnatitude of the data, we also need summary statistics that will help us understand the variabliity or spread of the data. \n",
    "\n",
    "\n",
    "For instance, we can quantify the spread of the BMI data for the player's position by computing the variance. The variance is the mean squared distance of the data from their mean, or a measure of the spread of the data. For each data point we square the distance from the mean then take the average of all the values. However, this returns a value with a different unit than the passed values. So, computing the Standard Deviation will be more useful to us."
   ]
  },
  {
   "cell_type": "code",
   "execution_count": 154,
   "metadata": {},
   "outputs": [
    {
     "name": "stdout",
     "output_type": "stream",
     "text": [
      "The variance of the overall data is 3.1688903620961892, with a standard deviation of 1.7801377368327962\n"
     ]
    }
   ],
   "source": [
    "# Compute the BMI variance\n",
    "bmi_var = np.var(df_pirates_roster['BMI'])\n",
    "bmi_std = np.std(df_pirates_roster['BMI'])\n",
    "\n",
    "print('The variance of the overall data is {0}, with a standard deviation of {1}'.format(bmi_var, bmi_std))"
   ]
  },
  {
   "cell_type": "markdown",
   "metadata": {},
   "source": [
    "This tells us..."
   ]
  },
  {
   "cell_type": "code",
   "execution_count": 157,
   "metadata": {},
   "outputs": [
    {
     "data": {
      "image/png": "[encoded data removed]",
      "text/plain": [
       "<Figure size 432x288 with 1 Axes>"
      ]
     },
     "metadata": {},
     "output_type": "display_data"
    }
   ],
   "source": [
    "# Make a scatter plot\n",
    "bmi_age_scatterplot = plt.plot(df_pirates_roster['BMI'], df_pirates_roster['Age'], marker='.', linestyle='none')\n",
    "\n",
    "# Label the axes\n",
    "bmi_age_scatterplot = plt.ylabel('Age (Years)')\n",
    "bmi_age_scatterplot = plt.xlabel('Body Mass Index (BMI)')\n",
    "\n",
    "# Show the result\n",
    "plt.show()"
   ]
  },
  {
   "cell_type": "code",
   "execution_count": 158,
   "metadata": {},
   "outputs": [
    {
     "name": "stdout",
     "output_type": "stream",
     "text": [
      "The covariance of players is 1.0059166208978632\n"
     ]
    }
   ],
   "source": [
    "# Compute the covariance matrix for bmi and age: bmi_age_cov\n",
    "bmi_age_cov = np.cov(df_pirates_roster['BMI'], df_pirates_roster['Age'])\n",
    "\n",
    "# Extract covariance of bmi and age of players: player_cov\n",
    "player_cov = bmi_age_cov[0,1]\n",
    "\n",
    "print('The covariance of players is {0}'.format(player_cov))"
   ]
  },
  {
   "cell_type": "markdown",
   "metadata": {},
   "source": [
    "The Pearson correlation coefficient, also called the Pearson r, is often easier to interpret than the covariance. "
   ]
  },
  {
   "cell_type": "code",
   "execution_count": 159,
   "metadata": {},
   "outputs": [
    {
     "name": "stdout",
     "output_type": "stream",
     "text": [
      "The Pearson r value for BMI and Age of players is 0.20203860730090847\n"
     ]
    }
   ],
   "source": [
    "# Compute the correlation matrix for bmi and age: bmi_age_corr_mat\n",
    "bmi_age_corr_mat = np.corrcoef(df_pirates_roster['BMI'], df_pirates_roster['Age'])\n",
    "\n",
    "# Compute Pearson correlation coefficient, Pearson r for bmi and age: bmi_age_pearson_r\n",
    "bmi_age_pearson_r = bmi_age_corr_mat[0,1]\n",
    "\n",
    "print('The Pearson r value for BMI and Age of players is {0}'.format(bmi_age_pearson_r))\n",
    "\n"
   ]
  }
 ],
 "metadata": {
  "kernelspec": {
   "display_name": "Python 3",
   "language": "python",
   "name": "python3"
  },
  "language_info": {
   "codemirror_mode": {
    "name": "ipython",
    "version": 3
   },
   "file_extension": ".py",
   "mimetype": "text/x-python",
   "name": "python",
   "nbconvert_exporter": "python",
   "pygments_lexer": "ipython3",
   "version": "3.7.0"
  }
 },
 "nbformat": 4,
 "nbformat_minor": 2
}
