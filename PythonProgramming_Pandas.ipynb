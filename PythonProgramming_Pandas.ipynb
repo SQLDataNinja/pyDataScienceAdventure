{
 "cells": [
  {
   "cell_type": "markdown",
   "metadata": {},
   "source": [
    "# Fun with Pandas\n",
    "To get comfortable with the the **Pandas** package, I will base my practice off exercises from [DataCamp](http://www.datacamp.com) in this section of the notebook. Specifically I will demonstrate how great **Pandas** is for Exploratory Data Analysis, Data Manipulation and more.\n",
    "\n",
    "\n",
    "\n",
    "## Pandas Basics"
   ]
  },
  {
   "cell_type": "code",
   "execution_count": null,
   "metadata": {},
   "outputs": [],
   "source": []
  }
 ],
 "metadata": {
  "kernelspec": {
   "display_name": "Python 3",
   "language": "python",
   "name": "python3"
  },
  "language_info": {
   "codemirror_mode": {
    "name": "ipython",
    "version": 3
   },
   "file_extension": ".py",
   "mimetype": "text/x-python",
   "name": "python",
   "nbconvert_exporter": "python",
   "pygments_lexer": "ipython3",
   "version": "3.7.0"
  }
 },
 "nbformat": 4,
 "nbformat_minor": 2
}
