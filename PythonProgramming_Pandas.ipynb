{
 "cells": [
  {
   "cell_type": "markdown",
   "metadata": {},
   "source": [
    "# Fun with Pandas\n",
    "To get comfortable with the the **Pandas** package, I will base my practice off exercises from [DataCamp](http://www.datacamp.com) in this section of the notebook. Specifically I will demonstrate how great **Pandas** is for Exploratory Data Analysis, Data Manipulation and more.\n",
    "\n",
    "\n",
    "\n",
    "## Pandas Basics"
   ]
  },
  {
   "cell_type": "code",
   "execution_count": null,
   "metadata": {},
   "outputs": [],
   "source": []
  },
  {
   "cell_type": "markdown",
   "metadata": {},
   "source": [
    "## Imported Data with Pandas\n",
    "We might even want to conduct a broader analysis of other baseball teams. The Pittsburgh Pirates team was kind enough to send us over a file of their 2018 team roster to take a look at and use in our study.\n",
    "First thing we need to do is get that data into our environment quickly using the builtin file functions available in Python."
   ]
  },
  {
   "cell_type": "code",
   "execution_count": null,
   "metadata": {},
   "outputs": [],
   "source": [
    "# Load file as numpy array: np_pirates_roster\n",
    "np_pirates_roster = np.recfromcsv('2018_PghPirates_Roster.csv')\n",
    "\n",
    "# Print shape of np_pirates_roster\n",
    "print(np.shape(np_pirates_roster))"
   ]
  }
 ],
 "metadata": {
  "kernelspec": {
   "display_name": "Python 3",
   "language": "python",
   "name": "python3"
  },
  "language_info": {
   "codemirror_mode": {
    "name": "ipython",
    "version": 3
   },
   "file_extension": ".py",
   "mimetype": "text/x-python",
   "name": "python",
   "nbconvert_exporter": "python",
   "pygments_lexer": "ipython3",
   "version": "3.7.0"
  }
 },
 "nbformat": 4,
 "nbformat_minor": 2
}
