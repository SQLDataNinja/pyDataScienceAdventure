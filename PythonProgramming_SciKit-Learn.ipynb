{
 "cells": [
  {
   "cell_type": "code",
   "execution_count": 40,
   "metadata": {},
   "outputs": [
    {
     "name": "stdout",
     "output_type": "stream",
     "text": [
      "(196, 9)\n"
     ]
    }
   ],
   "source": [
    "import pandas as pd\n",
    "import numpy as np\n",
    "import matplotlib.pyplot as plt\n",
    "import seaborn as sns\n",
    "import os\n",
    "\n",
    "# Store current working directory: curr_wd\n",
    "curr_wd = os.getcwd()\n",
    "\n",
    "# Store file name: file_rosters\n",
    "file_rosters = 'Pittsburgh_Pirates_Roster_2015_2018.csv'\n",
    "\n",
    "# Load file as a Pandas Dataframe: df_rosters_pirates\n",
    "df_rosters_pirates = pd.read_csv(curr_wd + '/data_sources/' + file_rosters, parse_dates=['Date Of Birth'])\n",
    "\n",
    "# Review the shape (rows, columns) of df_rosters_pirates\n",
    "print(df_rosters_pirates.shape)"
   ]
  },
  {
   "cell_type": "markdown",
   "metadata": {},
   "source": [
    "Before we begin to think about the supervised learning models we can apply to this data, let's perform Exploratory data analysis (EDA) in order to understand the structure of the data. \n",
    "\n",
    "\n",
    "We'll begin by exploring the dataset numerically, leveraging the **.head()**, **.info()** and **.describe()** methods availabile with the **Pandas** libraries."
   ]
  },
  {
   "cell_type": "code",
   "execution_count": 41,
   "metadata": {},
   "outputs": [
    {
     "name": "stdout",
     "output_type": "stream",
     "text": [
      "   Year Position   #               Player Height  Weight Throws   Bats  \\\n",
      "0  2015  Pitcher  59     Antonio Bastardo   5-11     202   Left  Right   \n",
      "1  2015  Pitcher  55          Joe Blanton   6-03     225  Right  Right   \n",
      "2  2015  Pitcher  34         A.J. Burnett   6-04     230  Right  Right   \n",
      "3  2015  Pitcher  37  Arquimedes Caminero   6-04     245  Right  Right   \n",
      "4  2015  Pitcher  45          Gerrit Cole   6-04     225  Right  Right   \n",
      "\n",
      "  Date Of Birth  \n",
      "0    1985-09-21  \n",
      "1    1980-12-11  \n",
      "2    1977-01-03  \n",
      "3    1987-06-16  \n",
      "4    1990-09-08  \n"
     ]
    }
   ],
   "source": [
    "# Preview the dataset by viewing the first 5 rows of data.\n",
    "print(df_rosters_pirates.head())"
   ]
  },
  {
   "cell_type": "code",
   "execution_count": 42,
   "metadata": {},
   "outputs": [
    {
     "name": "stdout",
     "output_type": "stream",
     "text": [
      "<class 'pandas.core.frame.DataFrame'>\n",
      "RangeIndex: 196 entries, 0 to 195\n",
      "Data columns (total 9 columns):\n",
      "Year             196 non-null int64\n",
      "Position         196 non-null object\n",
      "#                196 non-null object\n",
      "Player           196 non-null object\n",
      "Height           196 non-null object\n",
      "Weight           196 non-null int64\n",
      "Throws           196 non-null object\n",
      "Bats             196 non-null object\n",
      "Date Of Birth    196 non-null datetime64[ns]\n",
      "dtypes: datetime64[ns](1), int64(2), object(6)\n",
      "memory usage: 13.9+ KB\n",
      "None\n"
     ]
    }
   ],
   "source": [
    "# Review the completeness and data types within this dataset.\n",
    "print(df_rosters_pirates.info())"
   ]
  },
  {
   "cell_type": "code",
   "execution_count": 43,
   "metadata": {},
   "outputs": [
    {
     "name": "stdout",
     "output_type": "stream",
     "text": [
      "              Year      Weight\n",
      "count   196.000000  196.000000\n",
      "mean   2016.494898  213.729592\n",
      "std       1.102433   19.777048\n",
      "min    2015.000000  170.000000\n",
      "25%    2016.000000  200.000000\n",
      "50%    2016.000000  215.000000\n",
      "75%    2017.000000  226.250000\n",
      "max    2018.000000  260.000000\n"
     ]
    }
   ],
   "source": [
    "# Review summary statistics for numeric features of the dataset.\n",
    "print(df_rosters_pirates.describe())"
   ]
  },
  {
   "cell_type": "code",
   "execution_count": 44,
   "metadata": {},
   "outputs": [],
   "source": [
    "from datetime import date\n",
    "\n",
    "# Create helper function to calculation age based on Date of Birth\n",
    "def get_age(dob):\n",
    "    today = date.today()\n",
    "    return today.year - dob.year - ((today.month, today.day) < (dob.month, dob.day))\n",
    "\n",
    "# Create helper function to calculate BMI\n",
    "def get_bmi(height, weight, is_metric=False):\n",
    "    \"\"\"Returns the calculated Body Mass Index (BMI) when passed height \n",
    "    (inches or meters) and weight (pounds or kilograms)\"\"\"\n",
    "    \n",
    "    # Initialize variables\n",
    "    h = 0\n",
    "    w = 0\n",
    "    \n",
    "    # Convert to metrics for BMI calculation if needed\n",
    "    if is_metric:\n",
    "        h = height\n",
    "        w = weight\n",
    "    else:\n",
    "        h = height * 0.0254    # Convert Inches to Meters\n",
    "        w = weight * 0.453592  # Convert Pounds to Kilograms\n",
    "        \n",
    "    return(w / h ** 2)\n",
    "\n",
    "# Create helper function to determine BMI Classification per NIH\n",
    "def get_bmi_class(bmi_value):\n",
    "    \"\"\"Returns the BMI classification based on the given bmi_value \n",
    "    parameter passed into the function.\"\"\"\n",
    "    \n",
    "    # Initialize return variable\n",
    "    bmi_class = 'Unknown'\n",
    "    \n",
    "    if bmi_value < 18.5:\n",
    "        bmi_class = 'Underweight'\n",
    "    elif bmi_value >= 18.5 and bmi_value <= 24.9:\n",
    "        bmi_class = 'Normal'\n",
    "    elif bmi_value >= 25.0 and bmi_value <= 29.9:\n",
    "        bmi_class = 'Overweight'\n",
    "    elif bmi_value >= 30.0 and bmi_value <= 39.9:\n",
    "        bmi_class = 'Obesity'\n",
    "    else:\n",
    "        bmi_class = 'Extreme Obesity'\n",
    "    \n",
    "    return(bmi_class)"
   ]
  },
  {
   "cell_type": "markdown",
   "metadata": {},
   "source": [
    "Cleansing is fun"
   ]
  },
  {
   "cell_type": "code",
   "execution_count": 45,
   "metadata": {},
   "outputs": [
    {
     "name": "stdout",
     "output_type": "stream",
     "text": [
      "   Year Position   #               Player  Height  Weight Throws   Bats  \\\n",
      "0  2015  Pitcher  59     Antonio Bastardo      71     202   Left  Right   \n",
      "1  2015  Pitcher  55          Joe Blanton      75     225  Right  Right   \n",
      "2  2015  Pitcher  34         A.J. Burnett      76     230  Right  Right   \n",
      "3  2015  Pitcher  37  Arquimedes Caminero      76     245  Right  Right   \n",
      "4  2015  Pitcher  45          Gerrit Cole      76     225  Right  Right   \n",
      "\n",
      "  Date Of Birth  \n",
      "0    1985-09-21  \n",
      "1    1980-12-11  \n",
      "2    1977-01-03  \n",
      "3    1987-06-16  \n",
      "4    1990-09-08  \n"
     ]
    }
   ],
   "source": [
    "# Feet to Inches convert function\n",
    "fn_height_convert = lambda x: int(x.split('-')[0])*12 + int(x.split('-')[1])\n",
    "\n",
    "# Clean Height column by converting string representation of feet to numeric representation of inches\n",
    "df_rosters_pirates['Height'] = df_rosters_pirates['Height'].apply(fn_height_convert)\n",
    "\n",
    "# Test\n",
    "print(df_rosters_pirates.head())"
   ]
  },
  {
   "cell_type": "markdown",
   "metadata": {},
   "source": [
    "Add some calculations for our analysis"
   ]
  },
  {
   "cell_type": "code",
   "execution_count": 47,
   "metadata": {},
   "outputs": [
    {
     "name": "stdout",
     "output_type": "stream",
     "text": [
      "   Year Position   #               Player  Height  Weight Throws   Bats  \\\n",
      "0  2015  Pitcher  59     Antonio Bastardo      71     202   Left  Right   \n",
      "1  2015  Pitcher  55          Joe Blanton      75     225  Right  Right   \n",
      "2  2015  Pitcher  34         A.J. Burnett      76     230  Right  Right   \n",
      "3  2015  Pitcher  37  Arquimedes Caminero      76     245  Right  Right   \n",
      "4  2015  Pitcher  45          Gerrit Cole      76     225  Right  Right   \n",
      "\n",
      "  Date Of Birth  Age        BMI   BMI Class  \n",
      "0    1985-09-21   33  28.172969  Overweight  \n",
      "1    1980-12-11   38  28.122760  Overweight  \n",
      "2    1977-01-03   41  27.996169  Overweight  \n",
      "3    1987-06-16   31  29.822006  Overweight  \n",
      "4    1990-09-08   28  27.387557  Overweight  \n"
     ]
    }
   ],
   "source": [
    "# Add new feature to label player's age: df_pirates_roster['Age]\n",
    "df_rosters_pirates['Age'] = df_rosters_pirates.apply(lambda row: get_age(row['Date Of Birth']), axis=1)\n",
    "\n",
    "# Add new feature to label player's BMI per NIH: df_pirates_roster['BMI']\n",
    "df_rosters_pirates['BMI'] = df_rosters_pirates.apply(lambda row: get_bmi(row['Height'], row['Weight'], False), axis=1)\n",
    "\n",
    "# Add new feature to label player's BMI classification per NIH: df_pirates_roster['BMI Class']\n",
    "df_rosters_pirates['BMI Class'] = df_rosters_pirates.apply(lambda row: get_bmi_class(row['BMI']), axis=1)\n",
    "\n",
    "# Test\n",
    "print(df_rosters_pirates.head())"
   ]
  },
  {
   "cell_type": "code",
   "execution_count": 49,
   "metadata": {},
   "outputs": [
    {
     "name": "stdout",
     "output_type": "stream",
     "text": [
      "   Year Position               Player  Height  Weight  Age        BMI  \\\n",
      "0  2015  Pitcher     Antonio Bastardo      71     202   33  28.172969   \n",
      "1  2015  Pitcher          Joe Blanton      75     225   38  28.122760   \n",
      "2  2015  Pitcher         A.J. Burnett      76     230   41  27.996169   \n",
      "3  2015  Pitcher  Arquimedes Caminero      76     245   31  29.822006   \n",
      "4  2015  Pitcher          Gerrit Cole      76     225   28  27.387557   \n",
      "\n",
      "    BMI Class  \n",
      "0  Overweight  \n",
      "1  Overweight  \n",
      "2  Overweight  \n",
      "3  Overweight  \n",
      "4  Overweight  \n"
     ]
    }
   ],
   "source": [
    "# Drop features not needed for our analysis\n",
    "df_rosters_pirates.drop(['#', 'Throws', 'Bats', 'Date Of Birth'], axis=1, inplace=True)\n",
    "\n",
    "# Test\n",
    "print(df_rosters_pirates.head())"
   ]
  },
  {
   "cell_type": "code",
   "execution_count": 91,
   "metadata": {},
   "outputs": [
    {
     "name": "stdout",
     "output_type": "stream",
     "text": [
      "(148, 8)\n"
     ]
    }
   ],
   "source": [
    "# Import KNeighborsClassifier from sklearn.neighbors\n",
    "from sklearn.neighbors import KNeighborsClassifier\n",
    "\n",
    "df_training_data = df_rosters_pirates.loc[df_rosters_pirates['Year'] < 2018]\n",
    "\n",
    "print(df_training_data.shape)"
   ]
  },
  {
   "cell_type": "code",
   "execution_count": 92,
   "metadata": {},
   "outputs": [
    {
     "name": "stdout",
     "output_type": "stream",
     "text": [
      "   Height  Weight  Age        BMI\n",
      "0      71     202   33  28.172969\n",
      "1      75     225   38  28.122760\n",
      "2      76     230   41  27.996169\n",
      "3      76     245   31  29.822006\n",
      "4      76     225   28  27.387557\n"
     ]
    }
   ],
   "source": [
    "df_roster_data = df_training_data[['Height', 'Weight', 'Age', 'BMI']]\n",
    "\n",
    "print(df_roster_data.head())"
   ]
  },
  {
   "cell_type": "code",
   "execution_count": 124,
   "metadata": {},
   "outputs": [
    {
     "name": "stdout",
     "output_type": "stream",
     "text": [
      "<class 'pandas.core.frame.DataFrame'>\n",
      "Int64Index: 148 entries, 0 to 147\n",
      "Data columns (total 4 columns):\n",
      "Height    148 non-null int64\n",
      "Weight    148 non-null int64\n",
      "Age       148 non-null int64\n",
      "BMI       148 non-null float64\n",
      "dtypes: float64(1), int64(3)\n",
      "memory usage: 5.8 KB\n"
     ]
    }
   ],
   "source": [
    "# Check there are no missing values\n",
    "df_roster_data.info()"
   ]
  },
  {
   "cell_type": "code",
   "execution_count": 125,
   "metadata": {},
   "outputs": [
    {
     "name": "stdout",
     "output_type": "stream",
     "text": [
      "['Pitcher' 'Pitcher' 'Pitcher' 'Pitcher' 'Pitcher']\n"
     ]
    }
   ],
   "source": [
    "np_roster_target = df_training_data.Position.values\n",
    "print(np_roster_target[:5])"
   ]
  },
  {
   "cell_type": "code",
   "execution_count": 126,
   "metadata": {},
   "outputs": [
    {
     "name": "stdout",
     "output_type": "stream",
     "text": [
      "(148, 4)\n",
      "(148,)\n"
     ]
    }
   ],
   "source": [
    "# Check the Target Numpy Array and Data Dataframe have the same number of samples or obeservations\n",
    "print(df_roster_data.shape)\n",
    "print(np_roster_target.shape)"
   ]
  },
  {
   "cell_type": "code",
   "execution_count": 127,
   "metadata": {},
   "outputs": [
    {
     "data": {
      "text/plain": [
       "KNeighborsClassifier(algorithm='auto', leaf_size=30, metric='minkowski',\n",
       "           metric_params=None, n_jobs=1, n_neighbors=6, p=2,\n",
       "           weights='uniform')"
      ]
     },
     "execution_count": 127,
     "metadata": {},
     "output_type": "execute_result"
    }
   ],
   "source": [
    "# Create a k-NN classifier with 6 neighbors\n",
    "knn = KNeighborsClassifier(n_neighbors=6)\n",
    "\n",
    "# Fit the classifier to the data\n",
    "knn.fit(df_roster_data, np_roster_target)"
   ]
  },
  {
   "cell_type": "markdown",
   "metadata": {},
   "source": [
    "Having fit a k-NN classifier, we will now use it to predict the label of a new data point. Since we filtered out the 2018 roster data for our trained/fitted data, we can now use the 2018 roster data for test data!"
   ]
  },
  {
   "cell_type": "code",
   "execution_count": 129,
   "metadata": {},
   "outputs": [
    {
     "name": "stdout",
     "output_type": "stream",
     "text": [
      "(5, 4)\n",
      "(5,)\n"
     ]
    }
   ],
   "source": [
    "df_test_data = df_rosters_pirates.loc[df_rosters_pirates['Year'] == 2018].head()\n",
    "df_test_x = df_test_data[['Height', 'Weight', 'Age', 'BMI']]\n",
    "df_test_y = df_test_data['Position'][:5]\n",
    "\n",
    "print(df_test_x.shape)\n",
    "print(df_test_y.shape)"
   ]
  },
  {
   "cell_type": "code",
   "execution_count": 136,
   "metadata": {},
   "outputs": [
    {
     "name": "stdout",
     "output_type": "stream",
     "text": [
      "Position Prediction: ['Pitcher' 'Outfielder' 'Pitcher' 'Pitcher' 'Pitcher'] - Accuracy Score: 0.8\n"
     ]
    }
   ],
   "source": [
    "# Predict the labels for the training data df_roster_data (X)\n",
    "position_pred = knn.predict(df_roster_data)\n",
    "\n",
    "# Predict and print the label for the new data points df_test_x\n",
    "new_pos_pred = knn.predict(df_test_x)\n",
    "model_score = knn.score(df_test_x, df_test_y)\n",
    "print(\"Position Prediction: {0} - Accuracy Score: {1}\".format(new_pos_pred, model_score))\n"
   ]
  },
  {
   "cell_type": "code",
   "execution_count": 137,
   "metadata": {},
   "outputs": [
    {
     "name": "stdout",
     "output_type": "stream",
     "text": [
      "     Year Position           Player  Height  Weight  Age        BMI  \\\n",
      "148  2018  Pitcher  Tanner Anderson      74     195   25  25.036241   \n",
      "149  2018  Pitcher     Chris Archer      74     195   30  25.036241   \n",
      "150  2018  Pitcher    Steven Brault      72     195   26  26.446461   \n",
      "151  2018  Pitcher       Nick Burdi      77     220   25  26.087904   \n",
      "152  2018  Pitcher       Kyle Crick      76     220   26  26.778944   \n",
      "\n",
      "      BMI Class  \n",
      "148  Overweight  \n",
      "149  Overweight  \n",
      "150  Overweight  \n",
      "151  Overweight  \n",
      "152  Overweight  \n"
     ]
    }
   ],
   "source": [
    "# Let's Check\n",
    "print(df_test_data)"
   ]
  },
  {
   "cell_type": "markdown",
   "metadata": {},
   "source": [
    "We need to measure the model's performance, since this is a classification predictive problem, accuracy is a commonly used metric. The accuracy of a classifier is defined as the number of correct predictions divided by the total number of datapoints. To compute the accuracy we are really interested in how well the model will perform on new data, so we will use use the samples that the algorithm has never seen before, rather than the data used to fit the classifier since it would not be indicative of the ability of the model to generalize. This is why we split the data into two sets of data, one for training and one for testing. So we Fit/Train the classifer on the training data set and make predictions on the test dataset, then compare the predictions with the known labels to compute the accuracy of our predictions."
   ]
  },
  {
   "cell_type": "code",
   "execution_count": 151,
   "metadata": {},
   "outputs": [
    {
     "name": "stdout",
     "output_type": "stream",
     "text": [
      "0.5111111111111111\n"
     ]
    }
   ],
   "source": [
    "# Import package to create train and test data sets\n",
    "from sklearn.model_selection import train_test_split\n",
    "\n",
    "# Splits the data into 70% train & 30% test data, 4 arrays are produced: X_train, X_test, y_train, y_test\n",
    "X_train, X_test, y_train, y_test = train_test_split(df_roster_data, np_roster_target, \n",
    "                                                    test_size=0.3, random_state=21, stratify=np_roster_target)\n",
    "\n",
    "knn = KNeighborsClassifier(n_neighbors=6)\n",
    "\n",
    "knn.fit(X_train, y_train)\n",
    "\n",
    "y_pred = knn.predict(X_test)\n",
    "\n",
    "# Calculate Accuracy of our model\n",
    "print(knn.score(X_test, y_test))"
   ]
  },
  {
   "cell_type": "markdown",
   "metadata": {},
   "source": [
    "Let's compute and plot the training and testing accuracy scores for a variety of different neighbor values. By observing how the accuracy scores differ for the training and testing sets with different values of k, we will develop your intuition for overfitting and underfitting."
   ]
  },
  {
   "cell_type": "code",
   "execution_count": 152,
   "metadata": {},
   "outputs": [
    {
     "data": {
      "image/png": "[encoded data removed]",
      "text/plain": [
       "<Figure size 432x288 with 1 Axes>"
      ]
     },
     "metadata": {},
     "output_type": "display_data"
    }
   ],
   "source": [
    "# Setup arrays to store train and test accuracies\n",
    "neighbors = np.arange(1, 10)\n",
    "train_accuracy = np.empty(len(neighbors))\n",
    "test_accuracy = np.empty(len(neighbors))\n",
    "\n",
    "# Loop over different values of k\n",
    "for i, k in enumerate(neighbors):\n",
    "    # Setup a k-NN Classifier with k neighbors: knn\n",
    "    knn = KNeighborsClassifier(n_neighbors=k)\n",
    "\n",
    "    # Fit the classifier to the training data\n",
    "    knn.fit(X_train, y_train)\n",
    "    \n",
    "    #Compute accuracy on the training set\n",
    "    train_accuracy[i] = knn.score(X_train, y_train)\n",
    "\n",
    "    #Compute accuracy on the testing set\n",
    "    test_accuracy[i] = knn.score(X_test, y_test)\n",
    "\n",
    "# Generate plot\n",
    "plt.title('k-NN: Varying Number of Neighbors')\n",
    "plt.plot(neighbors, test_accuracy, label = 'Testing Accuracy')\n",
    "plt.plot(neighbors, train_accuracy, label = 'Training Accuracy')\n",
    "plt.legend()\n",
    "plt.xlabel('Number of Neighbors')\n",
    "plt.ylabel('Accuracy')\n",
    "plt.show()\n"
   ]
  },
  {
   "cell_type": "markdown",
   "metadata": {},
   "source": [
    "It looks like the test accuracy is highest when using 1, 4, 5, 7 or 8 neighbors. Using 9 neighbors or more seems to result in a simple model that underfits the data. "
   ]
  },
  {
   "cell_type": "code",
   "execution_count": 155,
   "metadata": {},
   "outputs": [
    {
     "name": "stdout",
     "output_type": "stream",
     "text": [
      "0.8\n"
     ]
    }
   ],
   "source": [
    "knn = KNeighborsClassifier(n_neighbors=1)\n",
    "\n",
    "knn.fit(X_train, y_train)\n",
    "\n",
    "y_pred = knn.predict(X_test)\n",
    "\n",
    "# Calculate Accuracy of our model\n",
    "print(knn.score(X_test, y_test))"
   ]
  },
  {
   "cell_type": "markdown",
   "metadata": {},
   "source": [
    "The Numerical EDA above gave us some very important information, such as the names and data types of the columns, and the dimensions of the DataFrame. \n",
    "\n",
    "Now let's get a better understanding of the data by exploring the data visual EDA. scatter_matrix in seaborn."
   ]
  },
  {
   "cell_type": "code",
   "execution_count": 139,
   "metadata": {},
   "outputs": [],
   "source": [
    "# Set default matplot style\n",
    "#plt.style.use('ggplot')\n",
    "\n",
    "#_ = plt.scatter(x=df_rosters_pirates.Weight, y=df_rosters_pirates.Height, c=df_rosters_pirates.Position)\n",
    "#plt.xlabel('Weight (lbs)')\n",
    "#plt.ylabel('Height (Inches)')\n",
    "#plt.title('Position Weight vs Height')\n",
    "\n",
    "#plt.show()\n",
    "\n",
    "#_ = pd.scatter_matrix(df_rosters_pirates)"
   ]
  }
 ],
 "metadata": {
  "kernelspec": {
   "display_name": "Python 3",
   "language": "python",
   "name": "python3"
  },
  "language_info": {
   "codemirror_mode": {
    "name": "ipython",
    "version": 3
   },
   "file_extension": ".py",
   "mimetype": "text/x-python",
   "name": "python",
   "nbconvert_exporter": "python",
   "pygments_lexer": "ipython3",
   "version": "3.7.1"
  }
 },
 "nbformat": 4,
 "nbformat_minor": 2
}
