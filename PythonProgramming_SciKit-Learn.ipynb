{
 "cells": [
  {
   "cell_type": "code",
   "execution_count": 1,
   "metadata": {},
   "outputs": [
    {
     "name": "stdout",
     "output_type": "stream",
     "text": [
      "(196, 9)\n"
     ]
    }
   ],
   "source": [
    "import pandas as pd\n",
    "import numpy as np\n",
    "import matplotlib.pyplot as plt\n",
    "import seaborn as sns\n",
    "import os\n",
    "\n",
    "# Store current working directory: curr_wd\n",
    "curr_wd = os.getcwd()\n",
    "\n",
    "# Store file name: file_rosters\n",
    "file_rosters = 'Pittsburgh_Pirates_Roster_2015_2018.csv'\n",
    "\n",
    "# Load file as a Pandas Dataframe: df_rosters_pirates\n",
    "df_rosters_pirates = pd.read_csv(curr_wd + '/data_sources/' + file_rosters, parse_dates=['Date Of Birth'])\n",
    "\n",
    "# Review the shape (rows, columns) of df_rosters_pirates\n",
    "print(df_rosters_pirates.shape)"
   ]
  },
  {
   "cell_type": "markdown",
   "metadata": {},
   "source": [
    "Before we begin to think about the supervised learning models we can apply to this data, let's perform Exploratory data analysis (EDA) in order to understand the structure of the data. \n",
    "\n",
    "\n",
    "We'll begin by exploring the dataset numerically, leveraging the **.head()**, **.info()** and **.describe()** methods availabile with the **Pandas** libraries."
   ]
  },
  {
   "cell_type": "code",
   "execution_count": 2,
   "metadata": {},
   "outputs": [
    {
     "name": "stdout",
     "output_type": "stream",
     "text": [
      "   Year Position   #               Player Height  Weight Throws   Bats  \\\n",
      "0  2015  Pitcher  59     Antonio Bastardo   5-11     202   Left  Right   \n",
      "1  2015  Pitcher  55          Joe Blanton   6-03     225  Right  Right   \n",
      "2  2015  Pitcher  34         A.J. Burnett   6-04     230  Right  Right   \n",
      "3  2015  Pitcher  37  Arquimedes Caminero   6-04     245  Right  Right   \n",
      "4  2015  Pitcher  45          Gerrit Cole   6-04     225  Right  Right   \n",
      "\n",
      "  Date Of Birth  \n",
      "0    1985-09-21  \n",
      "1    1980-12-11  \n",
      "2    1977-01-03  \n",
      "3    1987-06-16  \n",
      "4    1990-09-08  \n"
     ]
    }
   ],
   "source": [
    "# Preview the dataset by viewing the first 5 rows of data.\n",
    "print(df_rosters_pirates.head())"
   ]
  },
  {
   "cell_type": "code",
   "execution_count": 3,
   "metadata": {},
   "outputs": [
    {
     "name": "stdout",
     "output_type": "stream",
     "text": [
      "<class 'pandas.core.frame.DataFrame'>\n",
      "RangeIndex: 196 entries, 0 to 195\n",
      "Data columns (total 9 columns):\n",
      "Year             196 non-null int64\n",
      "Position         196 non-null object\n",
      "#                196 non-null object\n",
      "Player           196 non-null object\n",
      "Height           196 non-null object\n",
      "Weight           196 non-null int64\n",
      "Throws           196 non-null object\n",
      "Bats             196 non-null object\n",
      "Date Of Birth    196 non-null datetime64[ns]\n",
      "dtypes: datetime64[ns](1), int64(2), object(6)\n",
      "memory usage: 13.9+ KB\n",
      "None\n"
     ]
    }
   ],
   "source": [
    "# Review the completeness and data types within this dataset.\n",
    "print(df_rosters_pirates.info())"
   ]
  },
  {
   "cell_type": "code",
   "execution_count": 5,
   "metadata": {},
   "outputs": [
    {
     "name": "stdout",
     "output_type": "stream",
     "text": [
      "<class 'pandas.core.frame.DataFrame'>\n",
      "RangeIndex: 196 entries, 0 to 195\n",
      "Data columns (total 9 columns):\n",
      "Year             196 non-null int64\n",
      "Position         196 non-null category\n",
      "#                196 non-null object\n",
      "Player           196 non-null object\n",
      "Height           196 non-null object\n",
      "Weight           196 non-null int64\n",
      "Throws           196 non-null category\n",
      "Bats             196 non-null category\n",
      "Date Of Birth    196 non-null datetime64[ns]\n",
      "dtypes: category(3), datetime64[ns](1), int64(2), object(3)\n",
      "memory usage: 10.2+ KB\n",
      "None\n"
     ]
    }
   ],
   "source": [
    "# use less memory and increase performance for operations like groupby()\n",
    "df_rosters_pirates['Position'] = df_rosters_pirates['Position'].astype('category')\n",
    "df_rosters_pirates['Throws'] = df_rosters_pirates['Throws'].astype('category')\n",
    "df_rosters_pirates['Bats'] = df_rosters_pirates['Bats'].astype('category')\n",
    "print(df_rosters_pirates.info())"
   ]
  },
  {
   "cell_type": "code",
   "execution_count": 10,
   "metadata": {},
   "outputs": [
    {
     "ename": "TypeError",
     "evalue": "expected string or bytes-like object",
     "output_type": "error",
     "traceback": [
      "\u001b[0;31m---------------------------------------------------------------------------\u001b[0m",
      "\u001b[0;31mTypeError\u001b[0m                                 Traceback (most recent call last)",
      "\u001b[0;32m<ipython-input-10-cb37d355080d>\u001b[0m in \u001b[0;36m<module>\u001b[0;34m\u001b[0m\n\u001b[1;32m      2\u001b[0m \u001b[0mnon_decimal\u001b[0m \u001b[0;34m=\u001b[0m \u001b[0mre\u001b[0m\u001b[0;34m.\u001b[0m\u001b[0mcompile\u001b[0m\u001b[0;34m(\u001b[0m\u001b[0;34mr'[^\\d]+'\u001b[0m\u001b[0;34m)\u001b[0m\u001b[0;34m\u001b[0m\u001b[0;34m\u001b[0m\u001b[0m\n\u001b[1;32m      3\u001b[0m \u001b[0;34m\u001b[0m\u001b[0m\n\u001b[0;32m----> 4\u001b[0;31m \u001b[0mdf_rosters_pirates\u001b[0m\u001b[0;34m[\u001b[0m\u001b[0;34m'#'\u001b[0m\u001b[0;34m]\u001b[0m \u001b[0;34m=\u001b[0m \u001b[0mnon_decimal\u001b[0m\u001b[0;34m.\u001b[0m\u001b[0msub\u001b[0m\u001b[0;34m(\u001b[0m\u001b[0;34m''\u001b[0m\u001b[0;34m,\u001b[0m\u001b[0mdf_rosters_pirates\u001b[0m\u001b[0;34m[\u001b[0m\u001b[0;34m'#'\u001b[0m\u001b[0;34m]\u001b[0m\u001b[0;34m)\u001b[0m\u001b[0;34m.\u001b[0m\u001b[0mastype\u001b[0m\u001b[0;34m(\u001b[0m\u001b[0mint\u001b[0m\u001b[0;34m)\u001b[0m\u001b[0;34m\u001b[0m\u001b[0;34m\u001b[0m\u001b[0m\n\u001b[0m\u001b[1;32m      5\u001b[0m \u001b[0mprint\u001b[0m\u001b[0;34m(\u001b[0m\u001b[0mdf_roster_pirates\u001b[0m\u001b[0;34m.\u001b[0m\u001b[0minfo\u001b[0m\u001b[0;34m(\u001b[0m\u001b[0;34m)\u001b[0m\u001b[0;34m)\u001b[0m\u001b[0;34m\u001b[0m\u001b[0;34m\u001b[0m\u001b[0m\n",
      "\u001b[0;31mTypeError\u001b[0m: expected string or bytes-like object"
     ]
    }
   ],
   "source": [
    "import re\n",
    "non_decimal = re.compile(r'[^\\d]+')\n",
    "\n",
    "df_rosters_pirates['#'] = non_decimal.sub('',df_rosters_pirates['#']).astype(int)\n",
    "print(df_roster_pirates.info())"
   ]
  },
  {
   "cell_type": "code",
   "execution_count": 4,
   "metadata": {},
   "outputs": [
    {
     "name": "stdout",
     "output_type": "stream",
     "text": [
      "              Year      Weight\n",
      "count   196.000000  196.000000\n",
      "mean   2016.494898  213.729592\n",
      "std       1.102433   19.777048\n",
      "min    2015.000000  170.000000\n",
      "25%    2016.000000  200.000000\n",
      "50%    2016.000000  215.000000\n",
      "75%    2017.000000  226.250000\n",
      "max    2018.000000  260.000000\n"
     ]
    }
   ],
   "source": [
    "# Review summary statistics for numeric features of the dataset.\n",
    "print(df_rosters_pirates.describe())"
   ]
  },
  {
   "cell_type": "code",
   "execution_count": 5,
   "metadata": {},
   "outputs": [],
   "source": [
    "from datetime import date\n",
    "\n",
    "# Create helper function to calculation age based on Date of Birth\n",
    "def get_age(dob):\n",
    "    today = date.today()\n",
    "    return today.year - dob.year - ((today.month, today.day) < (dob.month, dob.day))\n",
    "\n",
    "# Create helper function to calculate BMI\n",
    "def get_bmi(height, weight, is_metric=False):\n",
    "    \"\"\"Returns the calculated Body Mass Index (BMI) when passed height \n",
    "    (inches or meters) and weight (pounds or kilograms)\"\"\"\n",
    "    \n",
    "    # Initialize variables\n",
    "    h = 0\n",
    "    w = 0\n",
    "    \n",
    "    # Convert to metrics for BMI calculation if needed\n",
    "    if is_metric:\n",
    "        h = height\n",
    "        w = weight\n",
    "    else:\n",
    "        h = height * 0.0254    # Convert Inches to Meters\n",
    "        w = weight * 0.453592  # Convert Pounds to Kilograms\n",
    "        \n",
    "    return(w / h ** 2)\n",
    "\n",
    "# Create helper function to determine BMI Classification per NIH\n",
    "def get_bmi_class(bmi_value):\n",
    "    \"\"\"Returns the BMI classification based on the given bmi_value \n",
    "    parameter passed into the function.\"\"\"\n",
    "    \n",
    "    # Initialize return variable\n",
    "    bmi_class = 'Unknown'\n",
    "    \n",
    "    if bmi_value < 18.5:\n",
    "        bmi_class = 'Underweight'\n",
    "    elif bmi_value >= 18.5 and bmi_value <= 24.9:\n",
    "        bmi_class = 'Normal'\n",
    "    elif bmi_value >= 25.0 and bmi_value <= 29.9:\n",
    "        bmi_class = 'Overweight'\n",
    "    elif bmi_value >= 30.0 and bmi_value <= 39.9:\n",
    "        bmi_class = 'Obesity'\n",
    "    else:\n",
    "        bmi_class = 'Extreme Obesity'\n",
    "    \n",
    "    return(bmi_class)"
   ]
  },
  {
   "cell_type": "markdown",
   "metadata": {},
   "source": [
    "Cleansing is fun"
   ]
  },
  {
   "cell_type": "code",
   "execution_count": 6,
   "metadata": {},
   "outputs": [
    {
     "name": "stdout",
     "output_type": "stream",
     "text": [
      "   Year Position   #               Player  Height  Weight Throws   Bats  \\\n",
      "0  2015  Pitcher  59     Antonio Bastardo      71     202   Left  Right   \n",
      "1  2015  Pitcher  55          Joe Blanton      75     225  Right  Right   \n",
      "2  2015  Pitcher  34         A.J. Burnett      76     230  Right  Right   \n",
      "3  2015  Pitcher  37  Arquimedes Caminero      76     245  Right  Right   \n",
      "4  2015  Pitcher  45          Gerrit Cole      76     225  Right  Right   \n",
      "\n",
      "  Date Of Birth  \n",
      "0    1985-09-21  \n",
      "1    1980-12-11  \n",
      "2    1977-01-03  \n",
      "3    1987-06-16  \n",
      "4    1990-09-08  \n"
     ]
    }
   ],
   "source": [
    "# Feet to Inches convert function\n",
    "fn_height_convert = lambda x: int(x.split('-')[0])*12 + int(x.split('-')[1])\n",
    "\n",
    "# Clean Height column by converting string representation of feet to numeric representation of inches\n",
    "df_rosters_pirates['Height'] = df_rosters_pirates['Height'].apply(fn_height_convert)\n",
    "\n",
    "# Test\n",
    "print(df_rosters_pirates.head())"
   ]
  },
  {
   "cell_type": "markdown",
   "metadata": {},
   "source": [
    "Add some calculations for our analysis"
   ]
  },
  {
   "cell_type": "code",
   "execution_count": 7,
   "metadata": {},
   "outputs": [
    {
     "name": "stdout",
     "output_type": "stream",
     "text": [
      "   Year Position   #               Player  Height  Weight Throws   Bats  \\\n",
      "0  2015  Pitcher  59     Antonio Bastardo      71     202   Left  Right   \n",
      "1  2015  Pitcher  55          Joe Blanton      75     225  Right  Right   \n",
      "2  2015  Pitcher  34         A.J. Burnett      76     230  Right  Right   \n",
      "3  2015  Pitcher  37  Arquimedes Caminero      76     245  Right  Right   \n",
      "4  2015  Pitcher  45          Gerrit Cole      76     225  Right  Right   \n",
      "\n",
      "  Date Of Birth  Age        BMI   BMI Class  \n",
      "0    1985-09-21   33  28.172969  Overweight  \n",
      "1    1980-12-11   38  28.122760  Overweight  \n",
      "2    1977-01-03   42  27.996169  Overweight  \n",
      "3    1987-06-16   31  29.822006  Overweight  \n",
      "4    1990-09-08   28  27.387557  Overweight  \n"
     ]
    }
   ],
   "source": [
    "# Add new feature to label player's age: df_pirates_roster['Age]\n",
    "df_rosters_pirates['Age'] = df_rosters_pirates.apply(lambda row: get_age(row['Date Of Birth']), axis=1)\n",
    "\n",
    "# Add new feature to label player's BMI per NIH: df_pirates_roster['BMI']\n",
    "df_rosters_pirates['BMI'] = df_rosters_pirates.apply(lambda row: get_bmi(row['Height'], row['Weight'], False), axis=1)\n",
    "\n",
    "# Add new feature to label player's BMI classification per NIH: df_pirates_roster['BMI Class']\n",
    "df_rosters_pirates['BMI Class'] = df_rosters_pirates.apply(lambda row: get_bmi_class(row['BMI']), axis=1)\n",
    "\n",
    "# Test\n",
    "print(df_rosters_pirates.head())"
   ]
  },
  {
   "cell_type": "markdown",
   "metadata": {},
   "source": [
    "Let's construct a heatmap using **Seaborn** to show the correlation between the different features of the Pirate's Roster dataset. Cells that are in green show positive correlation, while cells that are in red show negative correlation. T"
   ]
  },
  {
   "cell_type": "code",
   "execution_count": 102,
   "metadata": {},
   "outputs": [
    {
     "name": "stdout",
     "output_type": "stream",
     "text": [
      "<class 'pandas.core.frame.DataFrame'>\n",
      "RangeIndex: 196 entries, 0 to 195\n",
      "Data columns (total 8 columns):\n",
      "Year         196 non-null int64\n",
      "Position     196 non-null object\n",
      "Player       196 non-null object\n",
      "Height       196 non-null int64\n",
      "Weight       196 non-null int64\n",
      "Age          196 non-null int64\n",
      "BMI          196 non-null float64\n",
      "BMI Class    196 non-null object\n",
      "dtypes: float64(1), int64(4), object(3)\n",
      "memory usage: 12.3+ KB\n",
      "None\n"
     ]
    }
   ],
   "source": [
    "df_roster_filtered = df_rosters_pirates.drop(['#', 'Throws', 'Bats', 'Date Of Birth'], axis=1, inplace=False)\n",
    "\n",
    "print(df_roster_filtered.info())"
   ]
  },
  {
   "cell_type": "code",
   "execution_count": 103,
   "metadata": {},
   "outputs": [
    {
     "data": {
      "image/png": "[encoded data removed]",
      "text/plain": [
       "<Figure size 432x288 with 2 Axes>"
      ]
     },
     "metadata": {
      "needs_background": "light"
     },
     "output_type": "display_data"
    }
   ],
   "source": [
    "import seaborn as sns\n",
    "\n",
    "sns.heatmap(df_roster_filtered.corr(), square=True, cmap='RdYlGn')\n",
    "plt.show()"
   ]
  },
  {
   "cell_type": "code",
   "execution_count": 24,
   "metadata": {},
   "outputs": [],
   "source": [
    "# Import KNeighborsClassifier from sklearn.neighbors\n",
    "from sklearn.neighbors import KNeighborsClassifier\n",
    "\n",
    "#df_training_data = df_rosters_pirates.loc[df_rosters_pirates['Year'] < 2018]\n",
    "\n",
    "#print(df_training_data.shape)"
   ]
  },
  {
   "cell_type": "code",
   "execution_count": 104,
   "metadata": {},
   "outputs": [
    {
     "name": "stdout",
     "output_type": "stream",
     "text": [
      "   Height  Weight        BMI  Age\n",
      "0      71     202  28.172969   33\n",
      "1      75     225  28.122760   38\n",
      "2      76     230  27.996169   42\n",
      "3      76     245  29.822006   31\n",
      "4      76     225  27.387557   28\n"
     ]
    }
   ],
   "source": [
    "df_roster_data = df_roster_filtered[['Height', 'Weight', 'BMI', 'Age' ]]\n",
    "\n",
    "print(df_roster_data.head())"
   ]
  },
  {
   "cell_type": "code",
   "execution_count": 105,
   "metadata": {},
   "outputs": [
    {
     "name": "stdout",
     "output_type": "stream",
     "text": [
      "<class 'pandas.core.frame.DataFrame'>\n",
      "RangeIndex: 196 entries, 0 to 195\n",
      "Data columns (total 4 columns):\n",
      "Height    196 non-null int64\n",
      "Weight    196 non-null int64\n",
      "BMI       196 non-null float64\n",
      "Age       196 non-null int64\n",
      "dtypes: float64(1), int64(3)\n",
      "memory usage: 6.2 KB\n"
     ]
    }
   ],
   "source": [
    "# Check there are no missing values\n",
    "df_roster_data.info()"
   ]
  },
  {
   "cell_type": "code",
   "execution_count": 106,
   "metadata": {},
   "outputs": [
    {
     "name": "stdout",
     "output_type": "stream",
     "text": [
      "['Pitcher' 'Pitcher' 'Pitcher' 'Pitcher' 'Pitcher']\n"
     ]
    }
   ],
   "source": [
    "np_roster_target = df_roster_filtered.Position.values\n",
    "print(np_roster_target[:5])"
   ]
  },
  {
   "cell_type": "code",
   "execution_count": 107,
   "metadata": {},
   "outputs": [
    {
     "name": "stdout",
     "output_type": "stream",
     "text": [
      "(196, 4)\n",
      "(196,)\n"
     ]
    }
   ],
   "source": [
    "# Check the Target Numpy Array and Data Dataframe have the same number of samples or obeservations\n",
    "print(df_roster_data.shape)\n",
    "print(np_roster_target.shape)"
   ]
  },
  {
   "cell_type": "code",
   "execution_count": 108,
   "metadata": {},
   "outputs": [
    {
     "data": {
      "text/plain": [
       "KNeighborsClassifier(algorithm='auto', leaf_size=30, metric='minkowski',\n",
       "           metric_params=None, n_jobs=None, n_neighbors=6, p=2,\n",
       "           weights='uniform')"
      ]
     },
     "execution_count": 108,
     "metadata": {},
     "output_type": "execute_result"
    }
   ],
   "source": [
    "# Create a k-NN classifier with 6 neighbors\n",
    "knn = KNeighborsClassifier(n_neighbors=6)\n",
    "\n",
    "# Fit the classifier to the data\n",
    "knn.fit(df_roster_data, np_roster_target)"
   ]
  },
  {
   "cell_type": "markdown",
   "metadata": {},
   "source": [
    "Having fit a k-NN classifier, we will now use it to predict the label of a new data point. Since we filtered out the 2018 roster data for our trained/fitted data, we can now use the 2018 roster data for test data!"
   ]
  },
  {
   "cell_type": "markdown",
   "metadata": {},
   "source": [
    "We need to measure the model's performance, since this is a classification predictive problem, accuracy is a commonly used metric. The accuracy of a classifier is defined as the number of correct predictions divided by the total number of datapoints. To compute the accuracy we are really interested in how well the model will perform on new data, so we will use use the samples that the algorithm has never seen before, rather than the data used to fit the classifier since it would not be indicative of the ability of the model to generalize. This is why we split the data into two sets of data, one for training and one for testing. So we Fit/Train the classifer on the training data set and make predictions on the test dataset, then compare the predictions with the known labels to compute the accuracy of our predictions."
   ]
  },
  {
   "cell_type": "code",
   "execution_count": 109,
   "metadata": {},
   "outputs": [
    {
     "name": "stdout",
     "output_type": "stream",
     "text": [
      "0.576271186440678\n"
     ]
    }
   ],
   "source": [
    "# Import package to create train and test data sets\n",
    "from sklearn.model_selection import train_test_split\n",
    "\n",
    "# Splits the data into 70% train & 30% test data, 4 arrays are produced: X_train, X_test, y_train, y_test\n",
    "X_train, X_test, y_train, y_test = train_test_split(df_roster_data, np_roster_target, \n",
    "                                                    test_size=0.3, random_state=21, stratify=np_roster_target)\n",
    "\n",
    "knn = KNeighborsClassifier(n_neighbors=6)\n",
    "\n",
    "knn.fit(X_train, y_train)\n",
    "\n",
    "y_pred = knn.predict(X_test)\n",
    "\n",
    "# Calculate Accuracy of our model\n",
    "acc_score1 = knn.score(X_test, y_test)\n",
    "print(acc_score1)"
   ]
  },
  {
   "cell_type": "code",
   "execution_count": 110,
   "metadata": {},
   "outputs": [],
   "source": [
    "\n",
    "\n",
    "#df_rosters_pirates['BMI Class'] = df_rosters_pirates.apply(lambda row: get_bmi_class(row['BMI']), axis=1)"
   ]
  },
  {
   "cell_type": "markdown",
   "metadata": {},
   "source": [
    "Let's compute and plot the training and testing accuracy scores for a variety of different neighbor values. By observing how the accuracy scores differ for the training and testing sets with different values of k, we will develop your intuition for overfitting and underfitting."
   ]
  },
  {
   "cell_type": "code",
   "execution_count": 114,
   "metadata": {},
   "outputs": [],
   "source": [
    "# KNeighbors Accuracy Helper Function\n",
    "def plt_neighbors_accuracy(X_train, y_train):\n",
    "    # Setup arrays to store train and test accuracies\n",
    "    neighbors = np.arange(1, 10)\n",
    "    train_accuracy = np.empty(len(neighbors))\n",
    "    test_accuracy = np.empty(len(neighbors))\n",
    "\n",
    "    # Loop over different values of k\n",
    "    for i, k in enumerate(neighbors):\n",
    "        # Setup a k-NN Classifier with k neighbors: knn\n",
    "        knn = KNeighborsClassifier(n_neighbors=k)\n",
    "\n",
    "        # Fit the classifier to the training data\n",
    "        knn.fit(X_train, y_train)\n",
    "\n",
    "        #Compute accuracy on the training set\n",
    "        train_accuracy[i] = knn.score(X_train, y_train)\n",
    "\n",
    "        #Compute accuracy on the testing set\n",
    "        test_accuracy[i] = knn.score(X_test, y_test)\n",
    "\n",
    "    # Generate plot\n",
    "    plt.title('k-NN: Varying Number of Neighbors')\n",
    "    plt.plot(neighbors, test_accuracy, label = 'Testing Accuracy')\n",
    "    plt.plot(neighbors, train_accuracy, label = 'Training Accuracy')\n",
    "    plt.legend()\n",
    "    plt.xlabel('Number of Neighbors')\n",
    "    plt.ylabel('Accuracy')\n",
    "    plt.show()\n"
   ]
  },
  {
   "cell_type": "code",
   "execution_count": 115,
   "metadata": {},
   "outputs": [
    {
     "data": {
      "image/png": "[encoded data removed]",
      "text/plain": [
       "<Figure size 432x288 with 1 Axes>"
      ]
     },
     "metadata": {
      "needs_background": "light"
     },
     "output_type": "display_data"
    }
   ],
   "source": [
    "plt_neighbors_accuracy(X_train, y_train)"
   ]
  },
  {
   "cell_type": "markdown",
   "metadata": {},
   "source": [
    "It looks like the test accuracy is highest when using 1, 4, 5, 7 or 8 neighbors. Using 9 neighbors or more seems to result in a simple model that underfits the data. "
   ]
  },
  {
   "cell_type": "code",
   "execution_count": 116,
   "metadata": {},
   "outputs": [
    {
     "name": "stdout",
     "output_type": "stream",
     "text": [
      "0.6949152542372882\n"
     ]
    }
   ],
   "source": [
    "knn = KNeighborsClassifier(n_neighbors=3)\n",
    "\n",
    "knn.fit(X_train, y_train)\n",
    "\n",
    "y_pred = knn.predict(X_test)\n",
    "\n",
    "# Calculate Accuracy of our model\n",
    "acc_score2 = knn.score(X_test, y_test)\n",
    "print(acc_score2)"
   ]
  },
  {
   "cell_type": "markdown",
   "metadata": {},
   "source": [
    "Accuracy alone is not always an informative metrics for classifcation. Let's dive more deeply into evaluating hte performance of our classiers by computing the confusion matrix and generating a classificatio nreport."
   ]
  },
  {
   "cell_type": "code",
   "execution_count": 117,
   "metadata": {},
   "outputs": [
    {
     "name": "stdout",
     "output_type": "stream",
     "text": [
      "[[ 2  3  0  1]\n",
      " [ 1 11  0  2]\n",
      " [ 0  3  3  3]\n",
      " [ 2  3  0 25]]\n"
     ]
    }
   ],
   "source": [
    "from sklearn.metrics import classification_report\n",
    "from sklearn.metrics import confusion_matrix\n",
    "\n",
    "# Confusion Matrix\n",
    "print(confusion_matrix(y_test, y_pred))"
   ]
  },
  {
   "cell_type": "code",
   "execution_count": 118,
   "metadata": {},
   "outputs": [
    {
     "name": "stdout",
     "output_type": "stream",
     "text": [
      "              precision    recall  f1-score   support\n",
      "\n",
      "     Catcher       0.40      0.33      0.36         6\n",
      "   Infielder       0.55      0.79      0.65        14\n",
      "  Outfielder       1.00      0.33      0.50         9\n",
      "     Pitcher       0.81      0.83      0.82        30\n",
      "\n",
      "   micro avg       0.69      0.69      0.69        59\n",
      "   macro avg       0.69      0.57      0.58        59\n",
      "weighted avg       0.73      0.69      0.68        59\n",
      "\n"
     ]
    }
   ],
   "source": [
    "# Classification report (Precision, Recall, F1 score)\n",
    "print(classification_report(y_test, y_pred))"
   ]
  },
  {
   "cell_type": "code",
   "execution_count": 119,
   "metadata": {},
   "outputs": [
    {
     "data": {
      "text/html": [
       "<div>\n",
       "<style scoped>\n",
       "    .dataframe tbody tr th:only-of-type {\n",
       "        vertical-align: middle;\n",
       "    }\n",
       "\n",
       "    .dataframe tbody tr th {\n",
       "        vertical-align: top;\n",
       "    }\n",
       "\n",
       "    .dataframe thead th {\n",
       "        text-align: right;\n",
       "    }\n",
       "</style>\n",
       "<table border=\"1\" class=\"dataframe\">\n",
       "  <thead>\n",
       "    <tr style=\"text-align: right;\">\n",
       "      <th></th>\n",
       "      <th>Year</th>\n",
       "      <th>Position</th>\n",
       "      <th>Player</th>\n",
       "      <th>Height</th>\n",
       "      <th>Weight</th>\n",
       "      <th>Age</th>\n",
       "      <th>BMI</th>\n",
       "      <th>BMI Class</th>\n",
       "      <th>IsOverweight</th>\n",
       "    </tr>\n",
       "  </thead>\n",
       "  <tbody>\n",
       "    <tr>\n",
       "      <th>0</th>\n",
       "      <td>2015</td>\n",
       "      <td>Pitcher</td>\n",
       "      <td>Antonio Bastardo</td>\n",
       "      <td>71</td>\n",
       "      <td>202</td>\n",
       "      <td>33</td>\n",
       "      <td>28.172969</td>\n",
       "      <td>Overweight</td>\n",
       "      <td>1</td>\n",
       "    </tr>\n",
       "    <tr>\n",
       "      <th>1</th>\n",
       "      <td>2015</td>\n",
       "      <td>Pitcher</td>\n",
       "      <td>Joe Blanton</td>\n",
       "      <td>75</td>\n",
       "      <td>225</td>\n",
       "      <td>38</td>\n",
       "      <td>28.122760</td>\n",
       "      <td>Overweight</td>\n",
       "      <td>1</td>\n",
       "    </tr>\n",
       "    <tr>\n",
       "      <th>2</th>\n",
       "      <td>2015</td>\n",
       "      <td>Pitcher</td>\n",
       "      <td>A.J. Burnett</td>\n",
       "      <td>76</td>\n",
       "      <td>230</td>\n",
       "      <td>42</td>\n",
       "      <td>27.996169</td>\n",
       "      <td>Overweight</td>\n",
       "      <td>1</td>\n",
       "    </tr>\n",
       "    <tr>\n",
       "      <th>3</th>\n",
       "      <td>2015</td>\n",
       "      <td>Pitcher</td>\n",
       "      <td>Arquimedes Caminero</td>\n",
       "      <td>76</td>\n",
       "      <td>245</td>\n",
       "      <td>31</td>\n",
       "      <td>29.822006</td>\n",
       "      <td>Overweight</td>\n",
       "      <td>1</td>\n",
       "    </tr>\n",
       "    <tr>\n",
       "      <th>4</th>\n",
       "      <td>2015</td>\n",
       "      <td>Pitcher</td>\n",
       "      <td>Gerrit Cole</td>\n",
       "      <td>76</td>\n",
       "      <td>225</td>\n",
       "      <td>28</td>\n",
       "      <td>27.387557</td>\n",
       "      <td>Overweight</td>\n",
       "      <td>1</td>\n",
       "    </tr>\n",
       "  </tbody>\n",
       "</table>\n",
       "</div>"
      ],
      "text/plain": [
       "   Year Position               Player  Height  Weight  Age        BMI  \\\n",
       "0  2015  Pitcher     Antonio Bastardo      71     202   33  28.172969   \n",
       "1  2015  Pitcher          Joe Blanton      75     225   38  28.122760   \n",
       "2  2015  Pitcher         A.J. Burnett      76     230   42  27.996169   \n",
       "3  2015  Pitcher  Arquimedes Caminero      76     245   31  29.822006   \n",
       "4  2015  Pitcher          Gerrit Cole      76     225   28  27.387557   \n",
       "\n",
       "    BMI Class  IsOverweight  \n",
       "0  Overweight             1  \n",
       "1  Overweight             1  \n",
       "2  Overweight             1  \n",
       "3  Overweight             1  \n",
       "4  Overweight             1  "
      ]
     },
     "execution_count": 119,
     "metadata": {},
     "output_type": "execute_result"
    }
   ],
   "source": [
    "# Feature Engineering\n",
    "df_roster_newfeats = df_roster_filtered.copy()\n",
    "\n",
    "df_roster_newfeats['IsOverweight'] = df_roster_newfeats['BMI Class'].apply(lambda x: int(x != 'Normal' and x != 'Underweight'))\n",
    "df_roster_newfeats.head()"
   ]
  },
  {
   "cell_type": "code",
   "execution_count": 120,
   "metadata": {},
   "outputs": [
    {
     "data": {
      "text/html": [
       "<div>\n",
       "<style scoped>\n",
       "    .dataframe tbody tr th:only-of-type {\n",
       "        vertical-align: middle;\n",
       "    }\n",
       "\n",
       "    .dataframe tbody tr th {\n",
       "        vertical-align: top;\n",
       "    }\n",
       "\n",
       "    .dataframe thead th {\n",
       "        text-align: right;\n",
       "    }\n",
       "</style>\n",
       "<table border=\"1\" class=\"dataframe\">\n",
       "  <thead>\n",
       "    <tr style=\"text-align: right;\">\n",
       "      <th></th>\n",
       "      <th>Year</th>\n",
       "      <th>Position</th>\n",
       "      <th>Player</th>\n",
       "      <th>Height</th>\n",
       "      <th>Weight</th>\n",
       "      <th>Age</th>\n",
       "      <th>BMI</th>\n",
       "      <th>BMI Class</th>\n",
       "      <th>IsOverweight</th>\n",
       "      <th>BMI Class Code</th>\n",
       "    </tr>\n",
       "  </thead>\n",
       "  <tbody>\n",
       "    <tr>\n",
       "      <th>0</th>\n",
       "      <td>2015</td>\n",
       "      <td>Pitcher</td>\n",
       "      <td>Antonio Bastardo</td>\n",
       "      <td>71</td>\n",
       "      <td>202</td>\n",
       "      <td>33</td>\n",
       "      <td>28.172969</td>\n",
       "      <td>Overweight</td>\n",
       "      <td>1</td>\n",
       "      <td>3</td>\n",
       "    </tr>\n",
       "    <tr>\n",
       "      <th>1</th>\n",
       "      <td>2015</td>\n",
       "      <td>Pitcher</td>\n",
       "      <td>Joe Blanton</td>\n",
       "      <td>75</td>\n",
       "      <td>225</td>\n",
       "      <td>38</td>\n",
       "      <td>28.122760</td>\n",
       "      <td>Overweight</td>\n",
       "      <td>1</td>\n",
       "      <td>3</td>\n",
       "    </tr>\n",
       "    <tr>\n",
       "      <th>2</th>\n",
       "      <td>2015</td>\n",
       "      <td>Pitcher</td>\n",
       "      <td>A.J. Burnett</td>\n",
       "      <td>76</td>\n",
       "      <td>230</td>\n",
       "      <td>42</td>\n",
       "      <td>27.996169</td>\n",
       "      <td>Overweight</td>\n",
       "      <td>1</td>\n",
       "      <td>3</td>\n",
       "    </tr>\n",
       "    <tr>\n",
       "      <th>3</th>\n",
       "      <td>2015</td>\n",
       "      <td>Pitcher</td>\n",
       "      <td>Arquimedes Caminero</td>\n",
       "      <td>76</td>\n",
       "      <td>245</td>\n",
       "      <td>31</td>\n",
       "      <td>29.822006</td>\n",
       "      <td>Overweight</td>\n",
       "      <td>1</td>\n",
       "      <td>3</td>\n",
       "    </tr>\n",
       "    <tr>\n",
       "      <th>4</th>\n",
       "      <td>2015</td>\n",
       "      <td>Pitcher</td>\n",
       "      <td>Gerrit Cole</td>\n",
       "      <td>76</td>\n",
       "      <td>225</td>\n",
       "      <td>28</td>\n",
       "      <td>27.387557</td>\n",
       "      <td>Overweight</td>\n",
       "      <td>1</td>\n",
       "      <td>3</td>\n",
       "    </tr>\n",
       "  </tbody>\n",
       "</table>\n",
       "</div>"
      ],
      "text/plain": [
       "   Year Position               Player  Height  Weight  Age        BMI  \\\n",
       "0  2015  Pitcher     Antonio Bastardo      71     202   33  28.172969   \n",
       "1  2015  Pitcher          Joe Blanton      75     225   38  28.122760   \n",
       "2  2015  Pitcher         A.J. Burnett      76     230   42  27.996169   \n",
       "3  2015  Pitcher  Arquimedes Caminero      76     245   31  29.822006   \n",
       "4  2015  Pitcher          Gerrit Cole      76     225   28  27.387557   \n",
       "\n",
       "    BMI Class  IsOverweight  BMI Class Code  \n",
       "0  Overweight             1               3  \n",
       "1  Overweight             1               3  \n",
       "2  Overweight             1               3  \n",
       "3  Overweight             1               3  \n",
       "4  Overweight             1               3  "
      ]
     },
     "execution_count": 120,
     "metadata": {},
     "output_type": "execute_result"
    }
   ],
   "source": [
    "df_roster_newfeats['BMI Class Code'] = df_roster_newfeats['BMI Class'].astype('category').cat.codes\n",
    "df_roster_newfeats.head()"
   ]
  },
  {
   "cell_type": "code",
   "execution_count": 121,
   "metadata": {},
   "outputs": [
    {
     "data": {
      "text/html": [
       "<div>\n",
       "<style scoped>\n",
       "    .dataframe tbody tr th:only-of-type {\n",
       "        vertical-align: middle;\n",
       "    }\n",
       "\n",
       "    .dataframe tbody tr th {\n",
       "        vertical-align: top;\n",
       "    }\n",
       "\n",
       "    .dataframe thead th {\n",
       "        text-align: right;\n",
       "    }\n",
       "</style>\n",
       "<table border=\"1\" class=\"dataframe\">\n",
       "  <thead>\n",
       "    <tr style=\"text-align: right;\">\n",
       "      <th></th>\n",
       "      <th>Height</th>\n",
       "      <th>Weight</th>\n",
       "      <th>Age</th>\n",
       "      <th>BMI Class Code</th>\n",
       "      <th>IsOverweight</th>\n",
       "    </tr>\n",
       "  </thead>\n",
       "  <tbody>\n",
       "    <tr>\n",
       "      <th>0</th>\n",
       "      <td>71</td>\n",
       "      <td>202</td>\n",
       "      <td>33</td>\n",
       "      <td>3</td>\n",
       "      <td>1</td>\n",
       "    </tr>\n",
       "    <tr>\n",
       "      <th>1</th>\n",
       "      <td>75</td>\n",
       "      <td>225</td>\n",
       "      <td>38</td>\n",
       "      <td>3</td>\n",
       "      <td>1</td>\n",
       "    </tr>\n",
       "    <tr>\n",
       "      <th>2</th>\n",
       "      <td>76</td>\n",
       "      <td>230</td>\n",
       "      <td>42</td>\n",
       "      <td>3</td>\n",
       "      <td>1</td>\n",
       "    </tr>\n",
       "    <tr>\n",
       "      <th>3</th>\n",
       "      <td>76</td>\n",
       "      <td>245</td>\n",
       "      <td>31</td>\n",
       "      <td>3</td>\n",
       "      <td>1</td>\n",
       "    </tr>\n",
       "    <tr>\n",
       "      <th>4</th>\n",
       "      <td>76</td>\n",
       "      <td>225</td>\n",
       "      <td>28</td>\n",
       "      <td>3</td>\n",
       "      <td>1</td>\n",
       "    </tr>\n",
       "  </tbody>\n",
       "</table>\n",
       "</div>"
      ],
      "text/plain": [
       "   Height  Weight  Age  BMI Class Code  IsOverweight\n",
       "0      71     202   33               3             1\n",
       "1      75     225   38               3             1\n",
       "2      76     230   42               3             1\n",
       "3      76     245   31               3             1\n",
       "4      76     225   28               3             1"
      ]
     },
     "execution_count": 121,
     "metadata": {},
     "output_type": "execute_result"
    }
   ],
   "source": [
    "df_roster_data = df_roster_newfeats[['Height', 'Weight', 'Age', 'BMI Class Code','IsOverweight']]\n",
    "df_roster_data.head()\n"
   ]
  },
  {
   "cell_type": "code",
   "execution_count": 122,
   "metadata": {},
   "outputs": [
    {
     "data": {
      "image/png": "[encoded data removed]",
      "text/plain": [
       "<Figure size 432x288 with 2 Axes>"
      ]
     },
     "metadata": {
      "needs_background": "light"
     },
     "output_type": "display_data"
    }
   ],
   "source": [
    "sns.heatmap(df_roster_data.corr(), square=True, cmap='RdYlGn')\n",
    "plt.show()"
   ]
  },
  {
   "cell_type": "code",
   "execution_count": 123,
   "metadata": {},
   "outputs": [
    {
     "name": "stdout",
     "output_type": "stream",
     "text": [
      "0.6949152542372882\n"
     ]
    }
   ],
   "source": [
    "# Splits the data into 70% train & 30% test data, 4 arrays are produced: X_train, X_test, y_train, y_test\n",
    "X_train, X_test, y_train, y_test = train_test_split(df_roster_data, np_roster_target, \n",
    "                                                    test_size=0.3, random_state=21, stratify=np_roster_target)\n",
    "\n",
    "knn = KNeighborsClassifier(n_neighbors=3)\n",
    "\n",
    "knn.fit(X_train, y_train)\n",
    "\n",
    "y_pred = knn.predict(X_test)\n",
    "\n",
    "# Calculate Accuracy of our model\n",
    "acc_score3 = knn.score(X_test, y_test)\n",
    "print(acc_score3)"
   ]
  },
  {
   "cell_type": "code",
   "execution_count": 124,
   "metadata": {},
   "outputs": [
    {
     "data": {
      "image/png": "[encoded data removed]",
      "text/plain": [
       "<Figure size 432x288 with 1 Axes>"
      ]
     },
     "metadata": {
      "needs_background": "light"
     },
     "output_type": "display_data"
    }
   ],
   "source": [
    "plt_neighbors_accuracy(X_train, y_train)"
   ]
  },
  {
   "cell_type": "code",
   "execution_count": 95,
   "metadata": {},
   "outputs": [
    {
     "name": "stdout",
     "output_type": "stream",
     "text": [
      "Original accuracy score 0.5423728813559322, adjusted neighbors accuracy score 0.6949152542372882, additional features accuracy score 0.6949152542372882\n"
     ]
    }
   ],
   "source": [
    "# Calculate Accuracy of our model\n",
    "acc_score2 = knn.score(X_test, y_test)\n",
    "print('Original accuracy score {0}, adjusted neighbors accuracy score {1}, additional features accuracy score {2}'.\n",
    "      format(acc_score1, acc_score2, acc_score3))"
   ]
  },
  {
   "cell_type": "code",
   "execution_count": null,
   "metadata": {},
   "outputs": [],
   "source": [
    "# Logistic Regression"
   ]
  },
  {
   "cell_type": "markdown",
   "metadata": {},
   "source": [
    "The Numerical EDA above gave us some very important information, such as the names and data types of the columns, and the dimensions of the DataFrame. \n",
    "\n",
    "Now let's get a better understanding of the data by exploring the data visual EDA. scatter_matrix in seaborn."
   ]
  },
  {
   "cell_type": "code",
   "execution_count": 22,
   "metadata": {},
   "outputs": [],
   "source": [
    "# Set default matplot style\n",
    "#plt.style.use('ggplot')\n",
    "\n",
    "#_ = plt.scatter(x=df_rosters_pirates.Weight, y=df_rosters_pirates.Height, c=df_rosters_pirates.Position)\n",
    "#plt.xlabel('Weight (lbs)')\n",
    "#plt.ylabel('Height (Inches)')\n",
    "#plt.title('Position Weight vs Height')\n",
    "\n",
    "#plt.show()\n",
    "\n",
    "#_ = pd.scatter_matrix(df_rosters_pirates)"
   ]
  }
 ],
 "metadata": {
  "kernelspec": {
   "display_name": "Python 3",
   "language": "python",
   "name": "python3"
  },
  "language_info": {
   "codemirror_mode": {
    "name": "ipython",
    "version": 3
   },
   "file_extension": ".py",
   "mimetype": "text/x-python",
   "name": "python",
   "nbconvert_exporter": "python",
   "pygments_lexer": "ipython3",
   "version": "3.7.1"
  }
 },
 "nbformat": 4,
 "nbformat_minor": 2
}
