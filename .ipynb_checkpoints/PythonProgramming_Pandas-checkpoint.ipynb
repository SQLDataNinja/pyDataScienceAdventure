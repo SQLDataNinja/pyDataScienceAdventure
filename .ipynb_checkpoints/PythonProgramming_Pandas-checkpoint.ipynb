{
 "cells": [
  {
   "cell_type": "markdown",
   "metadata": {},
   "source": [
    "# Fun with Pandas\n",
    "To get comfortable with the the **Pandas** package, I will base my practice off exercises from [DataCamp](http://www.datacamp.com) in this section of the notebook. Specifically I will demonstrate how great **Pandas** is for Exploratory Data Analysis, Data Wrangling, Data Preprocessing, Data Modeling and Data Visualization.\n",
    "\n",
    "\n",
    "\n",
    "## Pandas Basics"
   ]
  },
  {
   "cell_type": "code",
   "execution_count": 5,
   "metadata": {},
   "outputs": [],
   "source": [
    "import pandas as pd # Import Pandas as pd\n",
    "import os \n"
   ]
  },
  {
   "cell_type": "markdown",
   "metadata": {},
   "source": [
    "## Imported Data with Pandas\n",
    "We might even want to conduct a broader analysis of other baseball teams. The Pittsburgh Pirates team was kind enough to send us over a file of their 2018 team roster to take a look at and use in our study.\n",
    "\n",
    "\n",
    "First thing we need to do is get that data into our environment quickly. Importing flat files using the **Pandas** package is considered the standard and best practice approach in **Python**."
   ]
  },
  {
   "cell_type": "code",
   "execution_count": 8,
   "metadata": {},
   "outputs": [
    {
     "name": "stdout",
     "output_type": "stream",
     "text": [
      "  Position   #             Name  Height  Weight Throws   Bats Date Of Birth\n",
      "0  Pitcher  52  Tanner Anderson    6.17     195  Right  Right     5/27/1993\n",
      "1  Pitcher  24     Chris Archer    6.17     195  Right  Right     9/26/1988\n",
      "2  Pitcher  43    Steven Brault    6.00     195   Left   Left     4/29/1992\n",
      "3  Pitcher  57       Nick Burdi    6.42     220  Right  Right     1/19/1993\n",
      "4  Pitcher  30       Kyle Crick    6.33     220  Right   Left    11/30/1992\n"
     ]
    }
   ],
   "source": [
    "# Store current working directory: curr_wd\n",
    "curr_wd = os.getcwd()\n",
    "\n",
    "# Store file name: file_pirates_roster\n",
    "file_pirates_roster = '2018_PghPirates_Roster.csv'\n",
    "\n",
    "# Load file as a Pandas Dataframe: df_pirates_roster\n",
    "df_pirates_roster = pd.read_csv(curr_wd + '/data_sources/' + file_pirates_roster)\n",
    "\n",
    "# Preview the data in df_pirates_roster\n",
    "print(df_pirates_roster.head())"
   ]
  }
 ],
 "metadata": {
  "kernelspec": {
   "display_name": "Python 3",
   "language": "python",
   "name": "python3"
  },
  "language_info": {
   "codemirror_mode": {
    "name": "ipython",
    "version": 3
   },
   "file_extension": ".py",
   "mimetype": "text/x-python",
   "name": "python",
   "nbconvert_exporter": "python",
   "pygments_lexer": "ipython3",
   "version": "3.7.0"
  }
 },
 "nbformat": 4,
 "nbformat_minor": 2
}
