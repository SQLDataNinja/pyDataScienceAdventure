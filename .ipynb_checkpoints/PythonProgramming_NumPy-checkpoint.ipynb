{
 "cells": [
  {
   "cell_type": "markdown",
   "metadata": {},
   "source": [
    "# Fun with NumPy\n",
    "To get comfortable with the basics of NumPy I will base my practice off the Baseball exercises from [DataCamp](http://www.datacamp.com) in this section of the notebook. Specifically I will demonstrate how greate **NumPy** is for doing vector arithmetic.\n",
    "\n",
    "\n",
    "\n",
    "## NumPy Basics"
   ]
  },
  {
   "cell_type": "code",
   "execution_count": 18,
   "metadata": {},
   "outputs": [
    {
     "name": "stdout",
     "output_type": "stream",
     "text": [
      "[74 74 72 72 73 69 69 71]\n"
     ]
    }
   ],
   "source": [
    "# Import the numpy package as np\n",
    "import numpy as np\n",
    "\n",
    "# Create list of the height of some baseball players\n",
    "baseball_height = [74, 74, 72, 72, 73, 69, 69, 71]\n",
    "\n",
    "# Create a numpy array from baseball: np_baseball_height\n",
    "np_baseball_height = np.array(baseball_height)\n",
    "\n",
    "# Print out np_baseball_height\n",
    "print(np_baseball_height)\n"
   ]
  },
  {
   "cell_type": "markdown",
   "metadata": {},
   "source": [
    "The baseball height list is currently in inches, lets convert it to meters. "
   ]
  },
  {
   "cell_type": "code",
   "execution_count": 19,
   "metadata": {},
   "outputs": [
    {
     "name": "stdout",
     "output_type": "stream",
     "text": [
      "[1.8796 1.8796 1.8288 1.8288 1.8542 1.7526 1.7526 1.8034]\n"
     ]
    }
   ],
   "source": [
    "# Convert np_baseball height values to meter: np_baseball_height_m\n",
    "np_baseball_height_m = np_baseball_height * 0.0254\n",
    "\n",
    "# Print np_baseball_m\n",
    "print(np_baseball_height_m)\n"
   ]
  },
  {
   "cell_type": "markdown",
   "metadata": {},
   "source": [
    "Let suppose the players now let us analyze their BMI. This requires us to not only have the player's height but their weight as well."
   ]
  },
  {
   "cell_type": "code",
   "execution_count": 20,
   "metadata": {},
   "outputs": [
    {
     "name": "stdout",
     "output_type": "stream",
     "text": [
      "[81.64656  97.52228  95.25432  95.25432  85.275296 79.832192 94.800728\n",
      " 90.7184  ]\n"
     ]
    }
   ],
   "source": [
    "# Create list of the weight of some baseball players\n",
    "baseball_weight = [180, 215, 210, 210, 188, 176, 209, 200]\n",
    "\n",
    "# Create a numpy array from baseball with metric units: np_baseball_weight_kg\n",
    "np_baseball_weight_kg = (np.array(baseball_weight)) * 0.453592\n",
    "\n",
    "# Print out np_baseball_weight\n",
    "print(np_baseball_weight_kg)"
   ]
  },
  {
   "cell_type": "markdown",
   "metadata": {},
   "source": [
    "Now that we collected the player's weight data and have stored it in a NumPy array of the right measurement, let's calculate each player's BMI (Body Mass Index)."
   ]
  },
  {
   "cell_type": "code",
   "execution_count": 21,
   "metadata": {},
   "outputs": [
    {
     "name": "stdout",
     "output_type": "stream",
     "text": [
      "[23.11037639 27.60406069 28.48080465 28.48080465 24.80333518 25.99036864\n",
      " 30.86356276 27.89402921]\n"
     ]
    }
   ],
   "source": [
    "# Calculate BMI: np_baseball_bmi\n",
    "np_baseball_bmi = np_baseball_weight_kg / np_baseball_height_m ** 2\n",
    "\n",
    "# Print out bmi\n",
    "print(np_baseball_bmi)"
   ]
  },
  {
   "cell_type": "markdown",
   "metadata": {},
   "source": [
    "Now I can gain some insight on the baseball players. For instance, perhaps I want to identify players that would be considered 'lightweight'."
   ]
  },
  {
   "cell_type": "code",
   "execution_count": 22,
   "metadata": {},
   "outputs": [
    {
     "name": "stdout",
     "output_type": "stream",
     "text": [
      "[23.11037639]\n"
     ]
    }
   ],
   "source": [
    "# Create a boolean list identifying all the players with a BMI less than 24: baseball_light_bmi\n",
    "baseball_light_bmi = np_baseball_bmi < 24\n",
    "\n",
    "# Print out BMIs of all baseball players whose BMI is below 24.\n",
    "print(np_baseball_bmi[baseball_light_bmi])"
   ]
  },
  {
   "cell_type": "markdown",
   "metadata": {},
   "source": [
    "## 2D NumPy Arrays\n",
    "The team's manager is interested in the results produced so far and the player insight that has been delievered, so he sends four more players to us to include in our studies. Let's use this opportunity to become more familiar with **NumPy** 2D Arrays."
   ]
  },
  {
   "cell_type": "code",
   "execution_count": 23,
   "metadata": {},
   "outputs": [
    {
     "name": "stdout",
     "output_type": "stream",
     "text": [
      "(4, 2)\n"
     ]
    }
   ],
   "source": [
    "# Create a list of lists of the new player's weights(lbs) & heights(inc): baseball_new_players\n",
    "baseball_new_players = [[187, 70.4],\n",
    "                        [222, 72.7],\n",
    "                        [207, 68.5],\n",
    "                        [169, 75.2]]\n",
    "\n",
    "# Create a 2D numpy array from baseball_new_players: np_baseball_new_players\n",
    "np_baseball_new_players = np.array(baseball_new_players)\n",
    "\n",
    "# Print out the number of columns and rows of our 2D numpy array using the shape attribute of numpy arrays.\n",
    "print(np_baseball_new_players.shape)"
   ]
  },
  {
   "cell_type": "code",
   "execution_count": 24,
   "metadata": {},
   "outputs": [
    {
     "name": "stdout",
     "output_type": "stream",
     "text": [
      "[[187.   70.4]\n",
      " [222.   72.7]\n",
      " [207.   68.5]\n",
      " [169.   75.2]]\n"
     ]
    }
   ],
   "source": [
    "\n",
    "print(np_baseball_new_players)"
   ]
  },
  {
   "cell_type": "markdown",
   "metadata": {},
   "source": [
    "Now that we have a 2D **NumPy** array for our new players ready to use, before we go any further we will want to convert the weight and height measurements to their metric values (kg and meters). **NumPy** is very useful with this since it can easily perform element-wise calculations."
   ]
  },
  {
   "cell_type": "code",
   "execution_count": 25,
   "metadata": {},
   "outputs": [
    {
     "name": "stdout",
     "output_type": "stream",
     "text": [
      "[[ 84.821704   1.78816 ]\n",
      " [100.697424   1.84658 ]\n",
      " [ 93.893544   1.7399  ]\n",
      " [ 76.657048   1.91008 ]]\n"
     ]
    }
   ],
   "source": [
    "# Create an numpy array to store the metric conversion multipliers: metric_conversions (weight, height)\n",
    "metric_conversions = np.array((0.453592, 0.0254))\n",
    "\n",
    "# Create a numpy 2D array to store the product of the new player's weight & height by the metric conversions: np_baseball_new_players_m\n",
    "np_baseball_new_players_m = np_baseball_new_players * metric_conversions\n",
    "\n",
    "print(np_baseball_new_players_m)"
   ]
  },
  {
   "cell_type": "markdown",
   "metadata": {},
   "source": [
    "To be able to analyze all our players for our study, both the original players and the new players we must convert the np_baseball_weight_kg and np_baseball_height_m **NumPy** arrays to one 2D array and append, then create a new 2D array with all the data."
   ]
  },
  {
   "cell_type": "code",
   "execution_count": 26,
   "metadata": {},
   "outputs": [
    {
     "name": "stdout",
     "output_type": "stream",
     "text": [
      "(12, 2)\n"
     ]
    }
   ],
   "source": [
    "# Convert the original players list to a numpy 2D array: np_baseball_2d\n",
    "np_baseball_2d = np.column_stack((np_baseball_height_m, np_baseball_weight_kg))\n",
    "\n",
    "# Combine original and new players data into one 2D Array: np_baseball_all\n",
    "np_baseball_all = np.concatenate((np_baseball_2d,np_baseball_new_players_m),0)\n",
    "\n",
    "# Let's check the shape now to make sure there are 2 rows and 2 columns.\n",
    "print(np_baseball_all.shape)"
   ]
  },
  {
   "cell_type": "markdown",
   "metadata": {},
   "source": [
    "## Statistics with NumPy\n",
    "Getting to know our data is important to help deliever insight and business value. So lets get started with some number crunching for our Data Analysis.\n",
    "\n",
    "\n",
    "Lets start by generating some summarizeing statistics about our baseball player's data. A good place to start is to calculate come measures of Central Tendancy for our height and weight values."
   ]
  },
  {
   "cell_type": "code",
   "execution_count": 27,
   "metadata": {},
   "outputs": [
    {
     "name": "stdout",
     "output_type": "stream",
     "text": [
      "Our baseball players sample has a average height of 60.63 meters and median height of 60.63, with a standard deviation of 41.92 meters.\n"
     ]
    }
   ],
   "source": [
    "# Calculate the median height of our players: med_baseball_height_m\n",
    "med_baseball_height_m = round(np.median(np_baseball_all[:,1]),2)\n",
    "\n",
    "# Calculate the average height of our players: avg_baseball_height_m\n",
    "avg_baseball_height_m = round(np.mean(np_baseball_all[:,1]),2)\n",
    "\n",
    "# Calculate the standard deviation for height of our players: std_baseball_height_m\n",
    "std_baseball_height_m = round(np.std(np_baseball_all[:,1]),2)\n",
    "\n",
    "print('Our baseball players sample has a average height of {0} meters and median height of {1}, with a standard deviation of {2} meters.'\n",
    "      .format(avg_baseball_height_m, avg_baseball_height_m, std_baseball_height_m))"
   ]
  },
  {
   "cell_type": "code",
   "execution_count": 28,
   "metadata": {},
   "outputs": [
    {
     "name": "stdout",
     "output_type": "stream",
     "text": [
      "Our baseball players sample has a average weight of 30.89 kilograms and median weight of 1.87, with a standard deviation of 41.92 kilograms.\n"
     ]
    }
   ],
   "source": [
    "# Calculate the median weight of our players: med_baseball_weight_kg\n",
    "med_baseball_weight_kg = round(np.median(np_baseball_all[:,0]),2)\n",
    "\n",
    "# Calculate the average weight of our players: avg_baseball_weight_kg\n",
    "avg_baseball_weight_kg = round(np.mean(np_baseball_all[:,0]),2)\n",
    "\n",
    "# Calculate the standard deviation for weight of our players: std_baseball_weight_kg\n",
    "std_baseball_weight_kg = round(np.std(np_baseball_all[:,1]),2)\n",
    "\n",
    "\n",
    "print('Our baseball players sample has a average weight of {0} kilograms and median weight of {1}, with a standard deviation of {2} kilograms.'\n",
    "      .format(avg_baseball_weight_kg, med_baseball_weight_kg, std_baseball_weight_kg))"
   ]
  },
  {
   "cell_type": "markdown",
   "metadata": {},
   "source": [
    "We can also use **NumPy** to look for relationships between our datapoints. For instance, we can use the corrcoef() function within **NumPy** to see if there is a relationship potentially between height and weight of our baseball player sample. The question might be, do taller players tend to be heavier?"
   ]
  },
  {
   "cell_type": "code",
   "execution_count": 29,
   "metadata": {},
   "outputs": [
    {
     "name": "stdout",
     "output_type": "stream",
     "text": [
      "[[ 1.         -0.98417119]\n",
      " [-0.98417119  1.        ]]\n"
     ]
    }
   ],
   "source": [
    "# Print our correlation between height and weight.\n",
    "print(np.corrcoef(np_baseball_all[:,1], np_baseball_all[:,0]))"
   ]
  },
  {
   "cell_type": "markdown",
   "metadata": {},
   "source": [
    "## Data Generation\n",
    "The team manager has found the insight we have been able to provide by simply capturing the data and calculating our basic summary statistics with the sample set of baseball players from his team. Now he wants us to include the whole team, or the population, into our analysis. \n",
    "\n",
    "\n",
    "Since this notebook is for a fictitious scenario, we will utilize some of the data generation helper functions within NumPy to simulate the remainder of the players on the baseball team."
   ]
  },
  {
   "cell_type": "code",
   "execution_count": 30,
   "metadata": {},
   "outputs": [
    {
     "name": "stdout",
     "output_type": "stream",
     "text": [
      "[[88.1   1.8 ]\n",
      " [69.6   1.9 ]\n",
      " [16.36  1.84]\n",
      " [33.71  1.59]\n",
      " [84.03  1.79]\n",
      " [67.76  1.99]\n",
      " [75.66  1.73]\n",
      " [46.42  2.06]\n",
      " [89.    1.83]\n",
      " [80.43  1.93]\n",
      " [58.17  1.9 ]\n",
      " [62.42  1.9 ]\n",
      " [59.96  1.6 ]]\n"
     ]
    }
   ],
   "source": [
    "# Generate height data for the additional 13 players: baseball_addt_players_height\n",
    "baseball_addt_players_height = np.round(np.random.normal(1.75, 0.20, 13), 2)\n",
    "\n",
    "# Generate weight data for the additional 13 players: baseball_addt_players_weight\n",
    "baseball_addt_players_weight = np.round(np.random.normal(60.32, 15, 13), 2)\n",
    "\n",
    "# Create a 2D array for the additional players: np_baseball_addt_players\n",
    "np_baseball_addt_players = np.column_stack((baseball_addt_players_weight, baseball_addt_players_height))\n",
    "\n",
    "# Print additional players data.\n",
    "print(np_baseball_addt_players)"
   ]
  },
  {
   "cell_type": "markdown",
   "metadata": {},
   "source": [
    "Again, we want to work with one 2D Array instead of several different arrays, so we will combine this generated array with our 2D array for the team from our last example."
   ]
  },
  {
   "cell_type": "code",
   "execution_count": 31,
   "metadata": {},
   "outputs": [
    {
     "name": "stdout",
     "output_type": "stream",
     "text": [
      "(25, 2)\n"
     ]
    }
   ],
   "source": [
    "# Combine original and new players data into one 2D Array: np_baseball_team\n",
    "np_baseball_team = np.concatenate((np_baseball_all, np_baseball_addt_players),0)\n",
    "\n",
    "# Let's check the shape now to make sure there are 25 rows and 2 columns.\n",
    "print(np_baseball_team.shape)"
   ]
  },
  {
   "cell_type": "markdown",
   "metadata": {},
   "source": [
    "## User Defined Functions with NumPy\n",
    "Now that we have the whole team on board for our analysis it might be useful to write some python functions to help with our analysis. This will allow us to not have to repeat writing a block of code to get a result. \n",
    "\n",
    "A great user defined function that would help us out for this analysis would be a function that returns BMI as a result when you pass a player's height and weight in to the funciton. "
   ]
  },
  {
   "cell_type": "code",
   "execution_count": 37,
   "metadata": {},
   "outputs": [
    {
     "name": "stdout",
     "output_type": "stream",
     "text": [
      "(24.375, 'Normal')\n"
     ]
    }
   ],
   "source": [
    "# Create a function to return BMI and BMI Classification for a given person: bmi_tuple\n",
    "def get_bmi(height_m, weight_kg):\n",
    "    \"\"\"Returns the calculated BMI and classification (tuple) based on the given height and weight \n",
    "    parameters passed into the function.\"\"\"\n",
    "    \n",
    "    # Initialize Variables\n",
    "    bmi = 0\n",
    "    bmi_class = 'Unknown'\n",
    "    \n",
    "    # Calculate BMI: player_bmi\n",
    "    bmi = weight_kg / height_m ** 2\n",
    "    \n",
    "    # Based on the NIH classify the BMI: bmi_class\n",
    "    if bmi < 18.5: \n",
    "        bmi_class = 'Underweight'\n",
    "    elif bmi >= 18.5 and bmi <= 24.9:\n",
    "        bmi_class = 'Normal'\n",
    "    elif bmi >= 25.0 and bmi <= 29.9:\n",
    "        bmi_class = 'Overweight'\n",
    "    elif bmi >= 30.0 and bmi <= 39.9:\n",
    "        bmi_class = 'Obesity'\n",
    "    else:\n",
    "        bmi_class = 'Extreme Obesity'\n",
    "        \n",
    "    # Store the BMI value and BMI classification result in a tuple: bmi_tuple\n",
    "    bmi_tuple = (bmi, bmi_class)\n",
    "    \n",
    "    # Return calculated BMI and classification tuple\n",
    "    return bmi_tuple\n",
    "\n",
    "# Let's call our function as a check\n",
    "print(get_bmi(2.0, 97.5 ))"
   ]
  },
  {
   "cell_type": "markdown",
   "metadata": {},
   "source": [
    "Another useful function would be a metric convert for height and weight, so we'll create one."
   ]
  },
  {
   "cell_type": "code",
   "execution_count": 45,
   "metadata": {},
   "outputs": [
    {
     "name": "stdout",
     "output_type": "stream",
     "text": [
      "72 inches or 6 feet is equal to 1.8288 meters.\n"
     ]
    }
   ],
   "source": [
    "def convert_inches_to_meters(inch_measure):\n",
    "    \"\"\"Returns the metric conversion for inches to meters.\"\"\"\n",
    "    try:\n",
    "        \n",
    "        # Multiple inches by 0.0254 to convert from inches to meters.\n",
    "        return(inch_measure * 0.0254)\n",
    "    except:\n",
    "        print('Please input a float or int value for inch_measure parameter.')\n",
    "    \n",
    "# Let's call our function as a check\n",
    "print('72 inches or 6 feet is equal to {0} meters.'.format(convert_inches_to_meters(72.0)))"
   ]
  },
  {
   "cell_type": "code",
   "execution_count": 2,
   "metadata": {},
   "outputs": [
    {
     "name": "stdout",
     "output_type": "stream",
     "text": [
      "215 lbs is equal to 97.52228 Kgs.\n"
     ]
    }
   ],
   "source": [
    "def convert_lbs_to_kg(lbs_measure):\n",
    "    \"\"\"Returns the metric conversion for US pounds(lbs) to kilograms (kg).\"\"\"\n",
    "    try:\n",
    "        \n",
    "        # Multiple inches by 0.453592 to convert from pounds(lbs) to kilograms(kg).\n",
    "        return(lbs_measure * 0.453592)\n",
    "    except:\n",
    "        print('Please input a float or int value for lbs_measure parameter.')\n",
    "    \n",
    "# Let's call our function as a check\n",
    "print('215 lbs is equal to {0} Kgs.'.format(convert_lbs_to_kg(215.0)))"
   ]
  }
 ],
 "metadata": {
  "kernelspec": {
   "display_name": "Python 3",
   "language": "python",
   "name": "python3"
  },
  "language_info": {
   "codemirror_mode": {
    "name": "ipython",
    "version": 3
   },
   "file_extension": ".py",
   "mimetype": "text/x-python",
   "name": "python",
   "nbconvert_exporter": "python",
   "pygments_lexer": "ipython3",
   "version": "3.7.0"
  }
 },
 "nbformat": 4,
 "nbformat_minor": 2
}
